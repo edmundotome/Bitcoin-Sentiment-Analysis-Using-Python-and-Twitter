{
 "cells": [
  {
   "cell_type": "markdown",
   "metadata": {},
   "source": [
    "# May 15th"
   ]
  },
  {
   "cell_type": "code",
   "execution_count": 56,
   "metadata": {},
   "outputs": [],
   "source": [
    "import tweepy\n",
    "import pandas as pd\n",
    "import numpy as np\n",
    "import re\n",
    "import seaborn as sns\n",
    "import matplotlib.pyplot as plt\n",
    "from textblob import TextBlob\n",
    "from tweepy.auth import OAuthHandler"
   ]
  },
  {
   "cell_type": "code",
   "execution_count": 57,
   "metadata": {},
   "outputs": [],
   "source": [
    "path = r'/home/edmundotome/Documents/Github Projects/LogAPItwitter.csv'\n",
    "log = pd.read_csv(path)"
   ]
  },
  {
   "cell_type": "code",
   "execution_count": 58,
   "metadata": {},
   "outputs": [],
   "source": [
    "consumerKey = log['API Key'][0]\n",
    "consumerSecret = log['API Key Secret'][0]\n",
    "\n",
    "accessToken = log['Access Token'][0]\n",
    "accessTokenSecret = log['Access Token Secret'][0]"
   ]
  },
  {
   "cell_type": "code",
   "execution_count": 59,
   "metadata": {},
   "outputs": [],
   "source": [
    "auth = OAuthHandler(consumerKey, consumerSecret)\n",
    "auth.set_access_token(accessToken, accessTokenSecret)\n",
    "\n",
    "api = tweepy.API(auth, wait_on_rate_limit=True)"
   ]
  },
  {
   "cell_type": "code",
   "execution_count": 60,
   "metadata": {},
   "outputs": [],
   "source": [
    "#gather 1000 tweets about Bitcoin and filter out any retweets 'RT'\n",
    "search_term = '#bitcoin -filter:retweets'\n",
    "\n",
    "#create a cursor object\n",
    "tweets = tweepy.Cursor(api.search, q=search_term, lang='en', since='2021-05-15', tweet_mode='extended').items(1000)\n",
    "\n",
    "#store tweets in a variable and get the full text\n",
    "all_tweets = [tweet.full_text for tweet in tweets]"
   ]
  },
  {
   "cell_type": "code",
   "execution_count": 61,
   "metadata": {},
   "outputs": [
    {
     "data": {
      "text/html": [
       "<div>\n",
       "<style scoped>\n",
       "    .dataframe tbody tr th:only-of-type {\n",
       "        vertical-align: middle;\n",
       "    }\n",
       "\n",
       "    .dataframe tbody tr th {\n",
       "        vertical-align: top;\n",
       "    }\n",
       "\n",
       "    .dataframe thead th {\n",
       "        text-align: right;\n",
       "    }\n",
       "</style>\n",
       "<table border=\"1\" class=\"dataframe\">\n",
       "  <thead>\n",
       "    <tr style=\"text-align: right;\">\n",
       "      <th></th>\n",
       "      <th>Tweets</th>\n",
       "    </tr>\n",
       "  </thead>\n",
       "  <tbody>\n",
       "    <tr>\n",
       "      <th>0</th>\n",
       "      <td>@intocryptoverse Suni (@sunifoundation) Ecosys...</td>\n",
       "    </tr>\n",
       "    <tr>\n",
       "      <th>1</th>\n",
       "      <td>@BluesparrowC @WhaleInsider @BlueSparrowETH #b...</td>\n",
       "    </tr>\n",
       "    <tr>\n",
       "      <th>2</th>\n",
       "      <td>did you know that #Bitcoin can get you enough ...</td>\n",
       "    </tr>\n",
       "    <tr>\n",
       "      <th>3</th>\n",
       "      <td>did you know that #Bitcoin can get you enough ...</td>\n",
       "    </tr>\n",
       "    <tr>\n",
       "      <th>4</th>\n",
       "      <td>#SHINJA Buy THE DIP!\\n46KHOLDERS(50K-2Sksln we...</td>\n",
       "    </tr>\n",
       "    <tr>\n",
       "      <th>5</th>\n",
       "      <td>@BluesparrowC @WhaleInsider @BlueSparrowETH #b...</td>\n",
       "    </tr>\n",
       "    <tr>\n",
       "      <th>6</th>\n",
       "      <td>Current Price of DOGECOIN (DOGE): $ 0.18277, 2...</td>\n",
       "    </tr>\n",
       "    <tr>\n",
       "      <th>7</th>\n",
       "      <td>#BitCoin\\n#game #SHIBARMY #Ferrari #Online #Ga...</td>\n",
       "    </tr>\n",
       "    <tr>\n",
       "      <th>8</th>\n",
       "      <td>@BluesparrowC @WhaleInsider @BlueSparrowETH #b...</td>\n",
       "    </tr>\n",
       "    <tr>\n",
       "      <th>9</th>\n",
       "      <td>@iamcryptobogan #SHINJA Buy THE DIP!\\n46KHOLDE...</td>\n",
       "    </tr>\n",
       "  </tbody>\n",
       "</table>\n",
       "</div>"
      ],
      "text/plain": [
       "                                              Tweets\n",
       "0  @intocryptoverse Suni (@sunifoundation) Ecosys...\n",
       "1  @BluesparrowC @WhaleInsider @BlueSparrowETH #b...\n",
       "2  did you know that #Bitcoin can get you enough ...\n",
       "3  did you know that #Bitcoin can get you enough ...\n",
       "4  #SHINJA Buy THE DIP!\\n46KHOLDERS(50K-2Sksln we...\n",
       "5  @BluesparrowC @WhaleInsider @BlueSparrowETH #b...\n",
       "6  Current Price of DOGECOIN (DOGE): $ 0.18277, 2...\n",
       "7  #BitCoin\\n#game #SHIBARMY #Ferrari #Online #Ga...\n",
       "8  @BluesparrowC @WhaleInsider @BlueSparrowETH #b...\n",
       "9  @iamcryptobogan #SHINJA Buy THE DIP!\\n46KHOLDE..."
      ]
     },
     "execution_count": 61,
     "metadata": {},
     "output_type": "execute_result"
    }
   ],
   "source": [
    "#create a dataframe to store the tweets with a column called 'tweets'\n",
    "df = pd.DataFrame(all_tweets, columns=['Tweets'])\n",
    "#show the first 5 rows of data\n",
    "df.head(10)"
   ]
  },
  {
   "cell_type": "code",
   "execution_count": 62,
   "metadata": {},
   "outputs": [],
   "source": [
    "#create a function to clean the tweets \n",
    "def cleanTwt(twt):\n",
    "  twt = re.sub('#bitcoin', 'bitcoin', twt) #removes the '#' from bitcoin\n",
    "  twt = re.sub('#Bitcoin', 'Bitcoin', twt)\n",
    "  twt = re.sub('#BTC', 'Bitcoin', twt)\n",
    "  twt = re.sub('#[A-Za-z0-9]+', '', twt) #removes any strings with a '#'\n",
    "  twt = re.sub('\\\\n', '', twt) #removes the '\\n' string\n",
    "  twt = re.sub('https?:\\/\\/\\S+', '', twt) #removes any hyperlinks\n",
    "  return twt"
   ]
  },
  {
   "cell_type": "code",
   "execution_count": 63,
   "metadata": {},
   "outputs": [
    {
     "data": {
      "text/html": [
       "<div>\n",
       "<style scoped>\n",
       "    .dataframe tbody tr th:only-of-type {\n",
       "        vertical-align: middle;\n",
       "    }\n",
       "\n",
       "    .dataframe tbody tr th {\n",
       "        vertical-align: top;\n",
       "    }\n",
       "\n",
       "    .dataframe thead th {\n",
       "        text-align: right;\n",
       "    }\n",
       "</style>\n",
       "<table border=\"1\" class=\"dataframe\">\n",
       "  <thead>\n",
       "    <tr style=\"text-align: right;\">\n",
       "      <th></th>\n",
       "      <th>Tweets</th>\n",
       "      <th>Cleaned Tweets</th>\n",
       "    </tr>\n",
       "  </thead>\n",
       "  <tbody>\n",
       "    <tr>\n",
       "      <th>0</th>\n",
       "      <td>@intocryptoverse Suni (@sunifoundation) Ecosys...</td>\n",
       "      <td>@intocryptoverse Suni (@sunifoundation) Ecosys...</td>\n",
       "    </tr>\n",
       "    <tr>\n",
       "      <th>1</th>\n",
       "      <td>@BluesparrowC @WhaleInsider @BlueSparrowETH #b...</td>\n",
       "      <td>@BluesparrowC @WhaleInsider @BlueSparrowETH  i...</td>\n",
       "    </tr>\n",
       "    <tr>\n",
       "      <th>2</th>\n",
       "      <td>did you know that #Bitcoin can get you enough ...</td>\n",
       "      <td>did you know that Bitcoin can get you enough i...</td>\n",
       "    </tr>\n",
       "    <tr>\n",
       "      <th>3</th>\n",
       "      <td>did you know that #Bitcoin can get you enough ...</td>\n",
       "      <td>did you know that Bitcoin can get you enough i...</td>\n",
       "    </tr>\n",
       "    <tr>\n",
       "      <th>4</th>\n",
       "      <td>#SHINJA Buy THE DIP!\\n46KHOLDERS(50K-2Sksln we...</td>\n",
       "      <td>Buy THE DIP!46KHOLDERS(50K-2Sksln wellbeBURNE...</td>\n",
       "    </tr>\n",
       "  </tbody>\n",
       "</table>\n",
       "</div>"
      ],
      "text/plain": [
       "                                              Tweets  \\\n",
       "0  @intocryptoverse Suni (@sunifoundation) Ecosys...   \n",
       "1  @BluesparrowC @WhaleInsider @BlueSparrowETH #b...   \n",
       "2  did you know that #Bitcoin can get you enough ...   \n",
       "3  did you know that #Bitcoin can get you enough ...   \n",
       "4  #SHINJA Buy THE DIP!\\n46KHOLDERS(50K-2Sksln we...   \n",
       "\n",
       "                                      Cleaned Tweets  \n",
       "0  @intocryptoverse Suni (@sunifoundation) Ecosys...  \n",
       "1  @BluesparrowC @WhaleInsider @BlueSparrowETH  i...  \n",
       "2  did you know that Bitcoin can get you enough i...  \n",
       "3  did you know that Bitcoin can get you enough i...  \n",
       "4   Buy THE DIP!46KHOLDERS(50K-2Sksln wellbeBURNE...  "
      ]
     },
     "execution_count": 63,
     "metadata": {},
     "output_type": "execute_result"
    }
   ],
   "source": [
    "#clean the tweets\n",
    "df['Cleaned Tweets'] = df['Tweets'].apply(cleanTwt)\n",
    "#show the dataset\n",
    "df.head()"
   ]
  },
  {
   "cell_type": "code",
   "execution_count": 64,
   "metadata": {},
   "outputs": [
    {
     "data": {
      "text/html": [
       "<div>\n",
       "<style scoped>\n",
       "    .dataframe tbody tr th:only-of-type {\n",
       "        vertical-align: middle;\n",
       "    }\n",
       "\n",
       "    .dataframe tbody tr th {\n",
       "        vertical-align: top;\n",
       "    }\n",
       "\n",
       "    .dataframe thead th {\n",
       "        text-align: right;\n",
       "    }\n",
       "</style>\n",
       "<table border=\"1\" class=\"dataframe\">\n",
       "  <thead>\n",
       "    <tr style=\"text-align: right;\">\n",
       "      <th></th>\n",
       "      <th>Tweets</th>\n",
       "      <th>Cleaned Tweets</th>\n",
       "      <th>Subjetivity</th>\n",
       "      <th>Polarity</th>\n",
       "    </tr>\n",
       "  </thead>\n",
       "  <tbody>\n",
       "    <tr>\n",
       "      <th>0</th>\n",
       "      <td>@intocryptoverse Suni (@sunifoundation) Ecosys...</td>\n",
       "      <td>@intocryptoverse Suni (@sunifoundation) Ecosys...</td>\n",
       "      <td>0.333333</td>\n",
       "      <td>0.250000</td>\n",
       "    </tr>\n",
       "    <tr>\n",
       "      <th>1</th>\n",
       "      <td>@BluesparrowC @WhaleInsider @BlueSparrowETH #b...</td>\n",
       "      <td>@BluesparrowC @WhaleInsider @BlueSparrowETH  i...</td>\n",
       "      <td>0.500000</td>\n",
       "      <td>0.300000</td>\n",
       "    </tr>\n",
       "    <tr>\n",
       "      <th>2</th>\n",
       "      <td>did you know that #Bitcoin can get you enough ...</td>\n",
       "      <td>did you know that Bitcoin can get you enough i...</td>\n",
       "      <td>0.650000</td>\n",
       "      <td>0.250000</td>\n",
       "    </tr>\n",
       "    <tr>\n",
       "      <th>3</th>\n",
       "      <td>did you know that #Bitcoin can get you enough ...</td>\n",
       "      <td>did you know that Bitcoin can get you enough i...</td>\n",
       "      <td>0.650000</td>\n",
       "      <td>0.250000</td>\n",
       "    </tr>\n",
       "    <tr>\n",
       "      <th>4</th>\n",
       "      <td>#SHINJA Buy THE DIP!\\n46KHOLDERS(50K-2Sksln we...</td>\n",
       "      <td>Buy THE DIP!46KHOLDERS(50K-2Sksln wellbeBURNE...</td>\n",
       "      <td>0.000000</td>\n",
       "      <td>0.000000</td>\n",
       "    </tr>\n",
       "    <tr>\n",
       "      <th>5</th>\n",
       "      <td>@BluesparrowC @WhaleInsider @BlueSparrowETH #b...</td>\n",
       "      <td>@BluesparrowC @WhaleInsider @BlueSparrowETH  i...</td>\n",
       "      <td>0.500000</td>\n",
       "      <td>0.300000</td>\n",
       "    </tr>\n",
       "    <tr>\n",
       "      <th>6</th>\n",
       "      <td>Current Price of DOGECOIN (DOGE): $ 0.18277, 2...</td>\n",
       "      <td>Current Price of DOGECOIN (DOGE): $ 0.18277, 2...</td>\n",
       "      <td>0.575000</td>\n",
       "      <td>0.187500</td>\n",
       "    </tr>\n",
       "    <tr>\n",
       "      <th>7</th>\n",
       "      <td>#BitCoin\\n#game #SHIBARMY #Ferrari #Online #Ga...</td>\n",
       "      <td>My favorite game on lineLet's play to win...</td>\n",
       "      <td>0.600000</td>\n",
       "      <td>0.366667</td>\n",
       "    </tr>\n",
       "    <tr>\n",
       "      <th>8</th>\n",
       "      <td>@BluesparrowC @WhaleInsider @BlueSparrowETH #b...</td>\n",
       "      <td>@BluesparrowC @WhaleInsider @BlueSparrowETH  i...</td>\n",
       "      <td>0.500000</td>\n",
       "      <td>0.300000</td>\n",
       "    </tr>\n",
       "    <tr>\n",
       "      <th>9</th>\n",
       "      <td>@iamcryptobogan #SHINJA Buy THE DIP!\\n46KHOLDE...</td>\n",
       "      <td>@iamcryptobogan  Buy THE DIP!46KHOLDERS(50K-2S...</td>\n",
       "      <td>0.000000</td>\n",
       "      <td>0.000000</td>\n",
       "    </tr>\n",
       "    <tr>\n",
       "      <th>10</th>\n",
       "      <td>@RevolutionREVSE good project, glad to be able...</td>\n",
       "      <td>@RevolutionREVSE good project, glad to be able...</td>\n",
       "      <td>0.556250</td>\n",
       "      <td>0.500000</td>\n",
       "    </tr>\n",
       "    <tr>\n",
       "      <th>11</th>\n",
       "      <td>I am claiming my free Lightning sats from @_bi...</td>\n",
       "      <td>I am claiming my free Lightning sats from @_bi...</td>\n",
       "      <td>0.850000</td>\n",
       "      <td>0.575000</td>\n",
       "    </tr>\n",
       "    <tr>\n",
       "      <th>12</th>\n",
       "      <td>Liquid Network - Rapid Fire Bitcoin! via @Rare...</td>\n",
       "      <td>Liquid Network - Rapid Fire Bitcoin! via @Rare...</td>\n",
       "      <td>0.000000</td>\n",
       "      <td>0.000000</td>\n",
       "    </tr>\n",
       "    <tr>\n",
       "      <th>13</th>\n",
       "      <td>Join today https://t.co/dHeyM1aSjm\\n\\n#memes #...</td>\n",
       "      <td>Join today   bitcoin       $NEGG $MMAT $WKHS $...</td>\n",
       "      <td>0.000000</td>\n",
       "      <td>0.000000</td>\n",
       "    </tr>\n",
       "    <tr>\n",
       "      <th>14</th>\n",
       "      <td>@elonmusk #IOTX TARGET 9.50₹ - 11₹ - 12.50₹ #I...</td>\n",
       "      <td>@elonmusk  TARGET 9.50₹ - 11₹ - 12.50₹        ...</td>\n",
       "      <td>0.000000</td>\n",
       "      <td>0.000000</td>\n",
       "    </tr>\n",
       "  </tbody>\n",
       "</table>\n",
       "</div>"
      ],
      "text/plain": [
       "                                               Tweets  \\\n",
       "0   @intocryptoverse Suni (@sunifoundation) Ecosys...   \n",
       "1   @BluesparrowC @WhaleInsider @BlueSparrowETH #b...   \n",
       "2   did you know that #Bitcoin can get you enough ...   \n",
       "3   did you know that #Bitcoin can get you enough ...   \n",
       "4   #SHINJA Buy THE DIP!\\n46KHOLDERS(50K-2Sksln we...   \n",
       "5   @BluesparrowC @WhaleInsider @BlueSparrowETH #b...   \n",
       "6   Current Price of DOGECOIN (DOGE): $ 0.18277, 2...   \n",
       "7   #BitCoin\\n#game #SHIBARMY #Ferrari #Online #Ga...   \n",
       "8   @BluesparrowC @WhaleInsider @BlueSparrowETH #b...   \n",
       "9   @iamcryptobogan #SHINJA Buy THE DIP!\\n46KHOLDE...   \n",
       "10  @RevolutionREVSE good project, glad to be able...   \n",
       "11  I am claiming my free Lightning sats from @_bi...   \n",
       "12  Liquid Network - Rapid Fire Bitcoin! via @Rare...   \n",
       "13  Join today https://t.co/dHeyM1aSjm\\n\\n#memes #...   \n",
       "14  @elonmusk #IOTX TARGET 9.50₹ - 11₹ - 12.50₹ #I...   \n",
       "\n",
       "                                       Cleaned Tweets  Subjetivity  Polarity  \n",
       "0   @intocryptoverse Suni (@sunifoundation) Ecosys...     0.333333  0.250000  \n",
       "1   @BluesparrowC @WhaleInsider @BlueSparrowETH  i...     0.500000  0.300000  \n",
       "2   did you know that Bitcoin can get you enough i...     0.650000  0.250000  \n",
       "3   did you know that Bitcoin can get you enough i...     0.650000  0.250000  \n",
       "4    Buy THE DIP!46KHOLDERS(50K-2Sksln wellbeBURNE...     0.000000  0.000000  \n",
       "5   @BluesparrowC @WhaleInsider @BlueSparrowETH  i...     0.500000  0.300000  \n",
       "6   Current Price of DOGECOIN (DOGE): $ 0.18277, 2...     0.575000  0.187500  \n",
       "7        My favorite game on lineLet's play to win...     0.600000  0.366667  \n",
       "8   @BluesparrowC @WhaleInsider @BlueSparrowETH  i...     0.500000  0.300000  \n",
       "9   @iamcryptobogan  Buy THE DIP!46KHOLDERS(50K-2S...     0.000000  0.000000  \n",
       "10  @RevolutionREVSE good project, glad to be able...     0.556250  0.500000  \n",
       "11  I am claiming my free Lightning sats from @_bi...     0.850000  0.575000  \n",
       "12  Liquid Network - Rapid Fire Bitcoin! via @Rare...     0.000000  0.000000  \n",
       "13  Join today   bitcoin       $NEGG $MMAT $WKHS $...     0.000000  0.000000  \n",
       "14  @elonmusk  TARGET 9.50₹ - 11₹ - 12.50₹        ...     0.000000  0.000000  "
      ]
     },
     "execution_count": 64,
     "metadata": {},
     "output_type": "execute_result"
    }
   ],
   "source": [
    "#create a function to get subjetivity\n",
    "def getSubjectivity(twt):\n",
    "  return TextBlob(twt).sentiment.subjectivity\n",
    "#create a function to get polarity\n",
    "def getPolarity(twt):\n",
    "  return TextBlob(twt).sentiment.polarity\n",
    "\n",
    "#create two new columns called 'Subjetivity' and 'Polarity'\n",
    "df['Subjetivity'] = df['Cleaned Tweets'].apply(getSubjectivity)\n",
    "\n",
    "df['Polarity'] = df['Cleaned Tweets'].apply(getPolarity)\n",
    "\n",
    "df.head(15)"
   ]
  },
  {
   "cell_type": "code",
   "execution_count": 65,
   "metadata": {},
   "outputs": [],
   "source": [
    "#create a function to get sentiment text \n",
    "def getSentiment(score):\n",
    "  if score < 0:\n",
    "    return 'Negative'\n",
    "  elif score == 0:\n",
    "    return 'Neutral'\n",
    "  else:\n",
    "    return 'Positive'\n"
   ]
  },
  {
   "cell_type": "code",
   "execution_count": 66,
   "metadata": {},
   "outputs": [
    {
     "data": {
      "text/html": [
       "<div>\n",
       "<style scoped>\n",
       "    .dataframe tbody tr th:only-of-type {\n",
       "        vertical-align: middle;\n",
       "    }\n",
       "\n",
       "    .dataframe tbody tr th {\n",
       "        vertical-align: top;\n",
       "    }\n",
       "\n",
       "    .dataframe thead th {\n",
       "        text-align: right;\n",
       "    }\n",
       "</style>\n",
       "<table border=\"1\" class=\"dataframe\">\n",
       "  <thead>\n",
       "    <tr style=\"text-align: right;\">\n",
       "      <th></th>\n",
       "      <th>Tweets</th>\n",
       "      <th>Cleaned Tweets</th>\n",
       "      <th>Subjetivity</th>\n",
       "      <th>Polarity</th>\n",
       "      <th>Sentiment</th>\n",
       "    </tr>\n",
       "  </thead>\n",
       "  <tbody>\n",
       "    <tr>\n",
       "      <th>0</th>\n",
       "      <td>@intocryptoverse Suni (@sunifoundation) Ecosys...</td>\n",
       "      <td>@intocryptoverse Suni (@sunifoundation) Ecosys...</td>\n",
       "      <td>0.333333</td>\n",
       "      <td>0.250000</td>\n",
       "      <td>Positive</td>\n",
       "    </tr>\n",
       "    <tr>\n",
       "      <th>1</th>\n",
       "      <td>@BluesparrowC @WhaleInsider @BlueSparrowETH #b...</td>\n",
       "      <td>@BluesparrowC @WhaleInsider @BlueSparrowETH  i...</td>\n",
       "      <td>0.500000</td>\n",
       "      <td>0.300000</td>\n",
       "      <td>Positive</td>\n",
       "    </tr>\n",
       "    <tr>\n",
       "      <th>2</th>\n",
       "      <td>did you know that #Bitcoin can get you enough ...</td>\n",
       "      <td>did you know that Bitcoin can get you enough i...</td>\n",
       "      <td>0.650000</td>\n",
       "      <td>0.250000</td>\n",
       "      <td>Positive</td>\n",
       "    </tr>\n",
       "    <tr>\n",
       "      <th>3</th>\n",
       "      <td>did you know that #Bitcoin can get you enough ...</td>\n",
       "      <td>did you know that Bitcoin can get you enough i...</td>\n",
       "      <td>0.650000</td>\n",
       "      <td>0.250000</td>\n",
       "      <td>Positive</td>\n",
       "    </tr>\n",
       "    <tr>\n",
       "      <th>4</th>\n",
       "      <td>#SHINJA Buy THE DIP!\\n46KHOLDERS(50K-2Sksln we...</td>\n",
       "      <td>Buy THE DIP!46KHOLDERS(50K-2Sksln wellbeBURNE...</td>\n",
       "      <td>0.000000</td>\n",
       "      <td>0.000000</td>\n",
       "      <td>Neutral</td>\n",
       "    </tr>\n",
       "    <tr>\n",
       "      <th>5</th>\n",
       "      <td>@BluesparrowC @WhaleInsider @BlueSparrowETH #b...</td>\n",
       "      <td>@BluesparrowC @WhaleInsider @BlueSparrowETH  i...</td>\n",
       "      <td>0.500000</td>\n",
       "      <td>0.300000</td>\n",
       "      <td>Positive</td>\n",
       "    </tr>\n",
       "    <tr>\n",
       "      <th>6</th>\n",
       "      <td>Current Price of DOGECOIN (DOGE): $ 0.18277, 2...</td>\n",
       "      <td>Current Price of DOGECOIN (DOGE): $ 0.18277, 2...</td>\n",
       "      <td>0.575000</td>\n",
       "      <td>0.187500</td>\n",
       "      <td>Positive</td>\n",
       "    </tr>\n",
       "    <tr>\n",
       "      <th>7</th>\n",
       "      <td>#BitCoin\\n#game #SHIBARMY #Ferrari #Online #Ga...</td>\n",
       "      <td>My favorite game on lineLet's play to win...</td>\n",
       "      <td>0.600000</td>\n",
       "      <td>0.366667</td>\n",
       "      <td>Positive</td>\n",
       "    </tr>\n",
       "    <tr>\n",
       "      <th>8</th>\n",
       "      <td>@BluesparrowC @WhaleInsider @BlueSparrowETH #b...</td>\n",
       "      <td>@BluesparrowC @WhaleInsider @BlueSparrowETH  i...</td>\n",
       "      <td>0.500000</td>\n",
       "      <td>0.300000</td>\n",
       "      <td>Positive</td>\n",
       "    </tr>\n",
       "    <tr>\n",
       "      <th>9</th>\n",
       "      <td>@iamcryptobogan #SHINJA Buy THE DIP!\\n46KHOLDE...</td>\n",
       "      <td>@iamcryptobogan  Buy THE DIP!46KHOLDERS(50K-2S...</td>\n",
       "      <td>0.000000</td>\n",
       "      <td>0.000000</td>\n",
       "      <td>Neutral</td>\n",
       "    </tr>\n",
       "    <tr>\n",
       "      <th>10</th>\n",
       "      <td>@RevolutionREVSE good project, glad to be able...</td>\n",
       "      <td>@RevolutionREVSE good project, glad to be able...</td>\n",
       "      <td>0.556250</td>\n",
       "      <td>0.500000</td>\n",
       "      <td>Positive</td>\n",
       "    </tr>\n",
       "    <tr>\n",
       "      <th>11</th>\n",
       "      <td>I am claiming my free Lightning sats from @_bi...</td>\n",
       "      <td>I am claiming my free Lightning sats from @_bi...</td>\n",
       "      <td>0.850000</td>\n",
       "      <td>0.575000</td>\n",
       "      <td>Positive</td>\n",
       "    </tr>\n",
       "    <tr>\n",
       "      <th>12</th>\n",
       "      <td>Liquid Network - Rapid Fire Bitcoin! via @Rare...</td>\n",
       "      <td>Liquid Network - Rapid Fire Bitcoin! via @Rare...</td>\n",
       "      <td>0.000000</td>\n",
       "      <td>0.000000</td>\n",
       "      <td>Neutral</td>\n",
       "    </tr>\n",
       "    <tr>\n",
       "      <th>13</th>\n",
       "      <td>Join today https://t.co/dHeyM1aSjm\\n\\n#memes #...</td>\n",
       "      <td>Join today   bitcoin       $NEGG $MMAT $WKHS $...</td>\n",
       "      <td>0.000000</td>\n",
       "      <td>0.000000</td>\n",
       "      <td>Neutral</td>\n",
       "    </tr>\n",
       "    <tr>\n",
       "      <th>14</th>\n",
       "      <td>@elonmusk #IOTX TARGET 9.50₹ - 11₹ - 12.50₹ #I...</td>\n",
       "      <td>@elonmusk  TARGET 9.50₹ - 11₹ - 12.50₹        ...</td>\n",
       "      <td>0.000000</td>\n",
       "      <td>0.000000</td>\n",
       "      <td>Neutral</td>\n",
       "    </tr>\n",
       "  </tbody>\n",
       "</table>\n",
       "</div>"
      ],
      "text/plain": [
       "                                               Tweets  \\\n",
       "0   @intocryptoverse Suni (@sunifoundation) Ecosys...   \n",
       "1   @BluesparrowC @WhaleInsider @BlueSparrowETH #b...   \n",
       "2   did you know that #Bitcoin can get you enough ...   \n",
       "3   did you know that #Bitcoin can get you enough ...   \n",
       "4   #SHINJA Buy THE DIP!\\n46KHOLDERS(50K-2Sksln we...   \n",
       "5   @BluesparrowC @WhaleInsider @BlueSparrowETH #b...   \n",
       "6   Current Price of DOGECOIN (DOGE): $ 0.18277, 2...   \n",
       "7   #BitCoin\\n#game #SHIBARMY #Ferrari #Online #Ga...   \n",
       "8   @BluesparrowC @WhaleInsider @BlueSparrowETH #b...   \n",
       "9   @iamcryptobogan #SHINJA Buy THE DIP!\\n46KHOLDE...   \n",
       "10  @RevolutionREVSE good project, glad to be able...   \n",
       "11  I am claiming my free Lightning sats from @_bi...   \n",
       "12  Liquid Network - Rapid Fire Bitcoin! via @Rare...   \n",
       "13  Join today https://t.co/dHeyM1aSjm\\n\\n#memes #...   \n",
       "14  @elonmusk #IOTX TARGET 9.50₹ - 11₹ - 12.50₹ #I...   \n",
       "\n",
       "                                       Cleaned Tweets  Subjetivity  Polarity  \\\n",
       "0   @intocryptoverse Suni (@sunifoundation) Ecosys...     0.333333  0.250000   \n",
       "1   @BluesparrowC @WhaleInsider @BlueSparrowETH  i...     0.500000  0.300000   \n",
       "2   did you know that Bitcoin can get you enough i...     0.650000  0.250000   \n",
       "3   did you know that Bitcoin can get you enough i...     0.650000  0.250000   \n",
       "4    Buy THE DIP!46KHOLDERS(50K-2Sksln wellbeBURNE...     0.000000  0.000000   \n",
       "5   @BluesparrowC @WhaleInsider @BlueSparrowETH  i...     0.500000  0.300000   \n",
       "6   Current Price of DOGECOIN (DOGE): $ 0.18277, 2...     0.575000  0.187500   \n",
       "7        My favorite game on lineLet's play to win...     0.600000  0.366667   \n",
       "8   @BluesparrowC @WhaleInsider @BlueSparrowETH  i...     0.500000  0.300000   \n",
       "9   @iamcryptobogan  Buy THE DIP!46KHOLDERS(50K-2S...     0.000000  0.000000   \n",
       "10  @RevolutionREVSE good project, glad to be able...     0.556250  0.500000   \n",
       "11  I am claiming my free Lightning sats from @_bi...     0.850000  0.575000   \n",
       "12  Liquid Network - Rapid Fire Bitcoin! via @Rare...     0.000000  0.000000   \n",
       "13  Join today   bitcoin       $NEGG $MMAT $WKHS $...     0.000000  0.000000   \n",
       "14  @elonmusk  TARGET 9.50₹ - 11₹ - 12.50₹        ...     0.000000  0.000000   \n",
       "\n",
       "   Sentiment  \n",
       "0   Positive  \n",
       "1   Positive  \n",
       "2   Positive  \n",
       "3   Positive  \n",
       "4    Neutral  \n",
       "5   Positive  \n",
       "6   Positive  \n",
       "7   Positive  \n",
       "8   Positive  \n",
       "9    Neutral  \n",
       "10  Positive  \n",
       "11  Positive  \n",
       "12   Neutral  \n",
       "13   Neutral  \n",
       "14   Neutral  "
      ]
     },
     "execution_count": 66,
     "metadata": {},
     "output_type": "execute_result"
    }
   ],
   "source": [
    "#create a column to store the text sentiment\n",
    "df['Sentiment'] = df['Polarity'].apply(getSentiment)\n",
    "\n",
    "df.head(15)"
   ]
  },
  {
   "cell_type": "code",
   "execution_count": 67,
   "metadata": {},
   "outputs": [
    {
     "name": "stderr",
     "output_type": "stream",
     "text": [
      "/home/edmundotome/anaconda3/envs/Signal-Processing/lib/python3.8/site-packages/seaborn/_decorators.py:36: FutureWarning: Pass the following variables as keyword args: x, y. From version 0.12, the only valid positional argument will be `data`, and passing other arguments without an explicit keyword will result in an error or misinterpretation.\n",
      "  warnings.warn(\n"
     ]
    },
    {
     "data": {
      "image/png": "[encoded data removed]",
      "text/plain": [
       "<Figure size 720x432 with 1 Axes>"
      ]
     },
     "metadata": {
      "needs_background": "light"
     },
     "output_type": "display_data"
    }
   ],
   "source": [
    "ax = sns.relplot(df['Polarity'], df['Subjetivity'], hue = df['Polarity'], palette='RdBu')\n",
    "ax.fig.set_size_inches(10,6)\n",
    "\n",
    "norm = plt.Normalize(df['Polarity'].min(), df['Polarity'].max())\n",
    "sm = plt.cm.ScalarMappable(cmap=\"RdBu\", norm=norm)\n",
    "sm.set_array([])\n",
    "\n",
    "plt.show()"
   ]
  },
  {
   "cell_type": "code",
   "execution_count": 68,
   "metadata": {},
   "outputs": [
    {
     "data": {
      "image/png": "[encoded data removed]",
      "text/plain": [
       "<Figure size 432x288 with 1 Axes>"
      ]
     },
     "metadata": {
      "needs_background": "light"
     },
     "output_type": "display_data"
    }
   ],
   "source": [
    "#create a barchar to show the count of positive, neutral and negative sentiments\n",
    "df['Sentiment'].value_counts().plot(kind='bar')\n",
    "plt.title('Sentiment Analysis Bar Plot')\n",
    "plt.xlabel('Sentiment')\n",
    "plt.ylabel('Number of Tweets')\n",
    "plt.show()"
   ]
  },
  {
   "cell_type": "code",
   "execution_count": 69,
   "metadata": {},
   "outputs": [
    {
     "data": {
      "text/plain": [
       "Positive    603\n",
       "Neutral     348\n",
       "Negative     49\n",
       "Name: Sentiment, dtype: int64"
      ]
     },
     "execution_count": 69,
     "metadata": {},
     "output_type": "execute_result"
    }
   ],
   "source": [
    "df['Sentiment'].value_counts()"
   ]
  },
  {
   "cell_type": "code",
   "execution_count": 70,
   "metadata": {},
   "outputs": [
    {
     "data": {
      "text/plain": [
       "[603, 348, 49]"
      ]
     },
     "execution_count": 70,
     "metadata": {},
     "output_type": "execute_result"
    }
   ],
   "source": [
    "val_count = list(df['Sentiment'].value_counts())\n",
    "val_count"
   ]
  },
  {
   "cell_type": "code",
   "execution_count": 71,
   "metadata": {},
   "outputs": [
    {
     "data": {
      "text/plain": [
       "[603, 348, 49]"
      ]
     },
     "execution_count": 71,
     "metadata": {},
     "output_type": "execute_result"
    }
   ],
   "source": [
    "lst_df = list(df['Sentiment'].value_counts())\n",
    "lst_df"
   ]
  },
  {
   "cell_type": "code",
   "execution_count": 72,
   "metadata": {},
   "outputs": [
    {
     "name": "stdout",
     "output_type": "stream",
     "text": [
      "  Sentiment  Positive  Neutral  Negative\n",
      "0     day 1     540.0    414.0      46.0\n",
      "1     day 2     542.0    412.0      46.0\n",
      "2     day 3     578.0    377.0      45.0\n",
      "3     day 4     427.0    253.0      32.0\n",
      "4     day 5     601.0    351.0      48.0\n",
      "5     day 6     603.0    348.0      49.0\n"
     ]
    }
   ],
   "source": [
    "dfs = pd.read_csv(\"f_sentiments.csv\")\n",
    "  \n",
    "# updating the column value/data\n",
    "dfs.loc[5, 'Sentiment'] = 'day 6'\n",
    "dfs.loc[5, 'Positive'] = lst_df[0]\n",
    "dfs.loc[5, 'Neutral'] = lst_df[1]\n",
    "dfs.loc[5, 'Negative'] = lst_df[2]\n",
    "  \n",
    "# writing into the file\n",
    "dfs.to_csv(\"f_sentiments.csv\", index=False)\n",
    "  \n",
    "print(dfs)"
   ]
  },
  {
   "cell_type": "code",
   "execution_count": 73,
   "metadata": {},
   "outputs": [],
   "source": [
    "# 703 469 90"
   ]
  }
 ],
 "metadata": {
  "kernelspec": {
   "display_name": "Python 3",
   "language": "python",
   "name": "python3"
  },
  "language_info": {
   "codemirror_mode": {
    "name": "ipython",
    "version": 3
   },
   "file_extension": ".py",
   "mimetype": "text/x-python",
   "name": "python",
   "nbconvert_exporter": "python",
   "pygments_lexer": "ipython3",
   "version": "3.8.3"
  }
 },
 "nbformat": 4,
 "nbformat_minor": 4
}
