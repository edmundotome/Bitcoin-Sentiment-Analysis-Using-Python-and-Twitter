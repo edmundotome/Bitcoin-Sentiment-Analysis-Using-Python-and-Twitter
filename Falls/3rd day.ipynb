{
 "cells": [
  {
   "cell_type": "markdown",
   "metadata": {},
   "source": [
    "# May 12th"
   ]
  },
  {
   "cell_type": "code",
   "execution_count": 1,
   "metadata": {},
   "outputs": [],
   "source": [
    "import tweepy\n",
    "import pandas as pd\n",
    "import numpy as np\n",
    "import re\n",
    "import seaborn as sns\n",
    "import matplotlib.pyplot as plt\n",
    "from textblob import TextBlob\n",
    "from tweepy.auth import OAuthHandler"
   ]
  },
  {
   "cell_type": "code",
   "execution_count": 2,
   "metadata": {},
   "outputs": [],
   "source": [
    "path = r'/home/edmundotome/Documents/Github Projects/LogAPItwitter.csv'\n",
    "log = pd.read_csv(path)"
   ]
  },
  {
   "cell_type": "code",
   "execution_count": 3,
   "metadata": {},
   "outputs": [],
   "source": [
    "consumerKey = log['API Key'][0]\n",
    "consumerSecret = log['API Key Secret'][0]\n",
    "\n",
    "accessToken = log['Access Token'][0]\n",
    "accessTokenSecret = log['Access Token Secret'][0]"
   ]
  },
  {
   "cell_type": "code",
   "execution_count": 4,
   "metadata": {},
   "outputs": [],
   "source": [
    "auth = OAuthHandler(consumerKey, consumerSecret)\n",
    "auth.set_access_token(accessToken, accessTokenSecret)\n",
    "\n",
    "api = tweepy.API(auth, wait_on_rate_limit=True)"
   ]
  },
  {
   "cell_type": "code",
   "execution_count": null,
   "metadata": {},
   "outputs": [],
   "source": [
    "#gather 2000 tweets about Bitcoin and filter out any retweets 'RT'\n",
    "search_term = '#bitcoin -filter:retweets'\n",
    "\n",
    "#create a cursor object\n",
    "english_tweets = tweepy.Cursor(api.search, q=search_term, lang='en', since='2021-05-12', tweet_mode='extended').items(2000)\n",
    "\n",
    "#store tweets in a variable and get the full text\n",
    "all_eng_tweets = [tweet.full_text for tweet in english_tweets]"
   ]
  },
  {
   "cell_type": "code",
   "execution_count": null,
   "metadata": {},
   "outputs": [],
   "source": [
    "#create a dataframe to store the tweets with a column called 'tweets'\n",
    "df = pd.DataFrame(all_eng_tweets, columns=['Tweets'])\n",
    "#show the first 5 rows of data\n",
    "df.head(10)"
   ]
  },
  {
   "cell_type": "code",
   "execution_count": null,
   "metadata": {},
   "outputs": [],
   "source": [
    "#create a function to clean the tweets \n",
    "def cleanTwt(twt):\n",
    "  twt = re.sub('#bitcoin', 'bitcoin', twt) #removes the '#' from bitcoin\n",
    "  twt = re.sub('#Bitcoin', 'Bitcoin', twt)\n",
    "  twt = re.sub('#BTC', 'Bitcoin', twt)\n",
    "  twt = re.sub('#[A-Za-z0-9]+', '', twt) #removes any strings with a '#'\n",
    "  twt = re.sub('\\\\n', '', twt) #removes the '\\n' string\n",
    "  twt = re.sub('https?:\\/\\/\\S+', '', twt) #removes any hyperlinks\n",
    "  return twt"
   ]
  },
  {
   "cell_type": "code",
   "execution_count": null,
   "metadata": {},
   "outputs": [],
   "source": [
    "#clean the tweets\n",
    "df['Cleaned Tweets'] = df['Tweets'].apply(cleanTwt)\n",
    "#show the dataset\n",
    "df.head()"
   ]
  },
  {
   "cell_type": "code",
   "execution_count": null,
   "metadata": {},
   "outputs": [],
   "source": [
    "#create a function to get subjetivity\n",
    "def getSubjectivity(twt):\n",
    "  return TextBlob(twt).sentiment.subjectivity\n",
    "#create a function to get polarity\n",
    "def getPolarity(twt):\n",
    "  return TextBlob(twt).sentiment.polarity\n",
    "\n",
    "#create two new columns called 'Subjetivity' and 'Polarity'\n",
    "df['Subjetivity'] = df['Cleaned Tweets'].apply(getSubjectivity)\n",
    "\n",
    "df['Polarity'] = df['Cleaned Tweets'].apply(getPolarity)\n",
    "\n",
    "df.head(15)"
   ]
  },
  {
   "cell_type": "code",
   "execution_count": null,
   "metadata": {},
   "outputs": [],
   "source": [
    "#create a function to get sentiment text \n",
    "def getSentiment(score):\n",
    "  if score < 0:\n",
    "    return 'Negative'\n",
    "  elif score == 0:\n",
    "    return 'Neutral'\n",
    "  else:\n",
    "    return 'Positive'\n"
   ]
  },
  {
   "cell_type": "code",
   "execution_count": null,
   "metadata": {},
   "outputs": [],
   "source": [
    "#create a column to store the text sentiment\n",
    "df['Sentiment'] = df['Polarity'].apply(getSentiment)\n",
    "\n",
    "df.head(15)"
   ]
  },
  {
   "cell_type": "code",
   "execution_count": null,
   "metadata": {},
   "outputs": [],
   "source": [
    "ax = sns.relplot(df['Polarity'], df['Subjetivity'], hue = df['Polarity'], palette='RdBu')\n",
    "ax.fig.set_size_inches(10,6)\n",
    "\n",
    "norm = plt.Normalize(df['Polarity'].min(), df['Polarity'].max())\n",
    "sm = plt.cm.ScalarMappable(cmap=\"RdBu\", norm=norm)\n",
    "sm.set_array([])\n",
    "\n",
    "plt.show()"
   ]
  },
  {
   "cell_type": "code",
   "execution_count": null,
   "metadata": {},
   "outputs": [],
   "source": [
    "#create a barchar to show the count of positive, neutral and negative sentiments\n",
    "df['Sentiment'].value_counts().plot(kind='bar')\n",
    "plt.title('Sentiment Analysis Bar Plot')\n",
    "plt.xlabel('Sentiment')\n",
    "plt.ylabel('Number of Tweets')\n",
    "plt.show()"
   ]
  },
  {
   "cell_type": "code",
   "execution_count": null,
   "metadata": {},
   "outputs": [],
   "source": []
  }
 ],
 "metadata": {
  "kernelspec": {
   "display_name": "Python 3",
   "language": "python",
   "name": "python3"
  },
  "language_info": {
   "codemirror_mode": {
    "name": "ipython",
    "version": 3
   },
   "file_extension": ".py",
   "mimetype": "text/x-python",
   "name": "python",
   "nbconvert_exporter": "python",
   "pygments_lexer": "ipython3",
   "version": "3.8.3"
  }
 },
 "nbformat": 4,
 "nbformat_minor": 4
}
