{
 "cells": [
  {
   "cell_type": "markdown",
   "metadata": {},
   "source": [
    "# 29th Sept"
   ]
  },
  {
   "cell_type": "code",
   "execution_count": 1,
   "metadata": {},
   "outputs": [],
   "source": [
    "import tweepy\n",
    "import pandas as pd\n",
    "import numpy as np\n",
    "import re\n",
    "import seaborn as sns\n",
    "import matplotlib.pyplot as plt\n",
    "from textblob import TextBlob\n",
    "from tweepy.auth import OAuthHandler\n",
    "import csv"
   ]
  },
  {
   "cell_type": "code",
   "execution_count": 2,
   "metadata": {},
   "outputs": [],
   "source": [
    "path = r'/home/edmundotome/Documents/Github Projects/LogAPItwitter.csv'\n",
    "log = pd.read_csv(path)"
   ]
  },
  {
   "cell_type": "code",
   "execution_count": 3,
   "metadata": {},
   "outputs": [],
   "source": [
    "consumerKey = log['API Key'][0]\n",
    "consumerSecret = log['API Key Secret'][0]\n",
    "\n",
    "accessToken = log['Access Token'][0]\n",
    "accessTokenSecret = log['Access Token Secret'][0]"
   ]
  },
  {
   "cell_type": "code",
   "execution_count": 4,
   "metadata": {},
   "outputs": [],
   "source": [
    "auth = OAuthHandler(consumerKey, consumerSecret)\n",
    "auth.set_access_token(accessToken, accessTokenSecret)\n",
    "\n",
    "api = tweepy.API(auth, wait_on_rate_limit=True)"
   ]
  },
  {
   "cell_type": "code",
   "execution_count": 5,
   "metadata": {},
   "outputs": [],
   "source": [
    "#gather 1000 tweets about Bitcoin and filter out any retweets 'RT'\n",
    "search_term = '#bitcoin -filter:retweets'\n",
    "\n",
    "#create a cursor object\n",
    "tweets = tweepy.Cursor(api.search, q=search_term, lang='en', since='2021-09-29', tweet_mode='extended').items(1000)\n",
    "\n",
    "#store tweets in a variable and get the full text\n",
    "all_tweets = [tweet.full_text for tweet in tweets]"
   ]
  },
  {
   "cell_type": "code",
   "execution_count": 6,
   "metadata": {},
   "outputs": [
    {
     "data": {
      "text/html": [
       "<div>\n",
       "<style scoped>\n",
       "    .dataframe tbody tr th:only-of-type {\n",
       "        vertical-align: middle;\n",
       "    }\n",
       "\n",
       "    .dataframe tbody tr th {\n",
       "        vertical-align: top;\n",
       "    }\n",
       "\n",
       "    .dataframe thead th {\n",
       "        text-align: right;\n",
       "    }\n",
       "</style>\n",
       "<table border=\"1\" class=\"dataframe\">\n",
       "  <thead>\n",
       "    <tr style=\"text-align: right;\">\n",
       "      <th></th>\n",
       "      <th>Tweets</th>\n",
       "    </tr>\n",
       "  </thead>\n",
       "  <tbody>\n",
       "    <tr>\n",
       "      <th>0</th>\n",
       "      <td>See you later!!! #ADA #XRP #CARDANO #BITCOIN #...</td>\n",
       "    </tr>\n",
       "    <tr>\n",
       "      <th>1</th>\n",
       "      <td>👋 A new block was found on the #Bitcoin networ...</td>\n",
       "    </tr>\n",
       "    <tr>\n",
       "      <th>2</th>\n",
       "      <td>฿ value over 1 year: +402.35%, (+$34280) [Curr...</td>\n",
       "    </tr>\n",
       "    <tr>\n",
       "      <th>3</th>\n",
       "      <td>Application-based public blockchain: \\n$eth\\n$...</td>\n",
       "    </tr>\n",
       "    <tr>\n",
       "      <th>4</th>\n",
       "      <td>So far this #Bitcoin dip tweet is raging well....</td>\n",
       "    </tr>\n",
       "    <tr>\n",
       "      <th>5</th>\n",
       "      <td>@Axion_TheFuture #Axion is rarest! Having #Bit...</td>\n",
       "    </tr>\n",
       "    <tr>\n",
       "      <th>6</th>\n",
       "      <td>Colin563 found #bitcoin in a User vault at thi...</td>\n",
       "    </tr>\n",
       "    <tr>\n",
       "      <th>7</th>\n",
       "      <td>#love #bitcoin #tumblr #twitter #facebook #ins...</td>\n",
       "    </tr>\n",
       "    <tr>\n",
       "      <th>8</th>\n",
       "      <td>@AltcoinDailyio #bitcoin walked so that #altco...</td>\n",
       "    </tr>\n",
       "    <tr>\n",
       "      <th>9</th>\n",
       "      <td>USE CODE CRYPTOEVENTS25 TO GET 25% OFF YOUR TI...</td>\n",
       "    </tr>\n",
       "  </tbody>\n",
       "</table>\n",
       "</div>"
      ],
      "text/plain": [
       "                                              Tweets\n",
       "0  See you later!!! #ADA #XRP #CARDANO #BITCOIN #...\n",
       "1  👋 A new block was found on the #Bitcoin networ...\n",
       "2  ฿ value over 1 year: +402.35%, (+$34280) [Curr...\n",
       "3  Application-based public blockchain: \\n$eth\\n$...\n",
       "4  So far this #Bitcoin dip tweet is raging well....\n",
       "5  @Axion_TheFuture #Axion is rarest! Having #Bit...\n",
       "6  Colin563 found #bitcoin in a User vault at thi...\n",
       "7  #love #bitcoin #tumblr #twitter #facebook #ins...\n",
       "8  @AltcoinDailyio #bitcoin walked so that #altco...\n",
       "9  USE CODE CRYPTOEVENTS25 TO GET 25% OFF YOUR TI..."
      ]
     },
     "execution_count": 6,
     "metadata": {},
     "output_type": "execute_result"
    }
   ],
   "source": [
    "#create a dataframe to store the tweets with a column called 'tweets'\n",
    "df = pd.DataFrame(all_tweets, columns=['Tweets'])\n",
    "#show the first 5 rows of data\n",
    "df.head(10)"
   ]
  },
  {
   "cell_type": "code",
   "execution_count": 7,
   "metadata": {},
   "outputs": [],
   "source": [
    "#create a function to clean the tweets \n",
    "def cleanTwt(twt):\n",
    "  twt = re.sub('#bitcoin', 'bitcoin', twt) #removes the '#' from bitcoin\n",
    "  twt = re.sub('#Bitcoin', 'Bitcoin', twt)\n",
    "  twt = re.sub('#BTC', 'Bitcoin', twt)\n",
    "  twt = re.sub('#[A-Za-z0-9]+', '', twt) #removes any strings with a '#'\n",
    "  twt = re.sub('\\\\n', '', twt) #removes the '\\n' string\n",
    "  twt = re.sub('https?:\\/\\/\\S+', '', twt) #removes any hyperlinks\n",
    "  return twt"
   ]
  },
  {
   "cell_type": "code",
   "execution_count": 8,
   "metadata": {},
   "outputs": [
    {
     "data": {
      "text/html": [
       "<div>\n",
       "<style scoped>\n",
       "    .dataframe tbody tr th:only-of-type {\n",
       "        vertical-align: middle;\n",
       "    }\n",
       "\n",
       "    .dataframe tbody tr th {\n",
       "        vertical-align: top;\n",
       "    }\n",
       "\n",
       "    .dataframe thead th {\n",
       "        text-align: right;\n",
       "    }\n",
       "</style>\n",
       "<table border=\"1\" class=\"dataframe\">\n",
       "  <thead>\n",
       "    <tr style=\"text-align: right;\">\n",
       "      <th></th>\n",
       "      <th>Tweets</th>\n",
       "      <th>Cleaned Tweets</th>\n",
       "    </tr>\n",
       "  </thead>\n",
       "  <tbody>\n",
       "    <tr>\n",
       "      <th>0</th>\n",
       "      <td>See you later!!! #ADA #XRP #CARDANO #BITCOIN #...</td>\n",
       "      <td>See you later!!!     Bitcoin</td>\n",
       "    </tr>\n",
       "    <tr>\n",
       "      <th>1</th>\n",
       "      <td>👋 A new block was found on the #Bitcoin networ...</td>\n",
       "      <td>👋 A new block was found on the Bitcoin network...</td>\n",
       "    </tr>\n",
       "    <tr>\n",
       "      <th>2</th>\n",
       "      <td>฿ value over 1 year: +402.35%, (+$34280) [Curr...</td>\n",
       "      <td>฿ value over 1 year: +402.35%, (+$34280) [Curr...</td>\n",
       "    </tr>\n",
       "    <tr>\n",
       "      <th>3</th>\n",
       "      <td>Application-based public blockchain: \\n$eth\\n$...</td>\n",
       "      <td>Application-based public blockchain: $eth$bnb$...</td>\n",
       "    </tr>\n",
       "    <tr>\n",
       "      <th>4</th>\n",
       "      <td>So far this #Bitcoin dip tweet is raging well....</td>\n",
       "      <td>So far this Bitcoin dip tweet is raging well.....</td>\n",
       "    </tr>\n",
       "  </tbody>\n",
       "</table>\n",
       "</div>"
      ],
      "text/plain": [
       "                                              Tweets  \\\n",
       "0  See you later!!! #ADA #XRP #CARDANO #BITCOIN #...   \n",
       "1  👋 A new block was found on the #Bitcoin networ...   \n",
       "2  ฿ value over 1 year: +402.35%, (+$34280) [Curr...   \n",
       "3  Application-based public blockchain: \\n$eth\\n$...   \n",
       "4  So far this #Bitcoin dip tweet is raging well....   \n",
       "\n",
       "                                      Cleaned Tweets  \n",
       "0            See you later!!!     Bitcoin             \n",
       "1  👋 A new block was found on the Bitcoin network...  \n",
       "2  ฿ value over 1 year: +402.35%, (+$34280) [Curr...  \n",
       "3  Application-based public blockchain: $eth$bnb$...  \n",
       "4  So far this Bitcoin dip tweet is raging well.....  "
      ]
     },
     "execution_count": 8,
     "metadata": {},
     "output_type": "execute_result"
    }
   ],
   "source": [
    "#clean the tweets\n",
    "df['Cleaned Tweets'] = df['Tweets'].apply(cleanTwt)\n",
    "#show the dataset\n",
    "df.head()"
   ]
  },
  {
   "cell_type": "code",
   "execution_count": 9,
   "metadata": {},
   "outputs": [
    {
     "data": {
      "text/html": [
       "<div>\n",
       "<style scoped>\n",
       "    .dataframe tbody tr th:only-of-type {\n",
       "        vertical-align: middle;\n",
       "    }\n",
       "\n",
       "    .dataframe tbody tr th {\n",
       "        vertical-align: top;\n",
       "    }\n",
       "\n",
       "    .dataframe thead th {\n",
       "        text-align: right;\n",
       "    }\n",
       "</style>\n",
       "<table border=\"1\" class=\"dataframe\">\n",
       "  <thead>\n",
       "    <tr style=\"text-align: right;\">\n",
       "      <th></th>\n",
       "      <th>Tweets</th>\n",
       "      <th>Cleaned Tweets</th>\n",
       "      <th>Subjetivity</th>\n",
       "      <th>Polarity</th>\n",
       "    </tr>\n",
       "  </thead>\n",
       "  <tbody>\n",
       "    <tr>\n",
       "      <th>0</th>\n",
       "      <td>See you later!!! #ADA #XRP #CARDANO #BITCOIN #...</td>\n",
       "      <td>See you later!!!     Bitcoin</td>\n",
       "      <td>0.000000</td>\n",
       "      <td>0.000000</td>\n",
       "    </tr>\n",
       "    <tr>\n",
       "      <th>1</th>\n",
       "      <td>👋 A new block was found on the #Bitcoin networ...</td>\n",
       "      <td>👋 A new block was found on the Bitcoin network...</td>\n",
       "      <td>0.284848</td>\n",
       "      <td>0.045455</td>\n",
       "    </tr>\n",
       "    <tr>\n",
       "      <th>2</th>\n",
       "      <td>฿ value over 1 year: +402.35%, (+$34280) [Curr...</td>\n",
       "      <td>฿ value over 1 year: +402.35%, (+$34280) [Curr...</td>\n",
       "      <td>0.400000</td>\n",
       "      <td>0.000000</td>\n",
       "    </tr>\n",
       "    <tr>\n",
       "      <th>3</th>\n",
       "      <td>Application-based public blockchain: \\n$eth\\n$...</td>\n",
       "      <td>Application-based public blockchain: $eth$bnb$...</td>\n",
       "      <td>0.533333</td>\n",
       "      <td>0.300000</td>\n",
       "    </tr>\n",
       "    <tr>\n",
       "      <th>4</th>\n",
       "      <td>So far this #Bitcoin dip tweet is raging well....</td>\n",
       "      <td>So far this Bitcoin dip tweet is raging well.....</td>\n",
       "      <td>0.833333</td>\n",
       "      <td>0.441667</td>\n",
       "    </tr>\n",
       "    <tr>\n",
       "      <th>5</th>\n",
       "      <td>@Axion_TheFuture #Axion is rarest! Having #Bit...</td>\n",
       "      <td>@Axion_TheFuture  is rarest! Having Bitcoin di...</td>\n",
       "      <td>0.250000</td>\n",
       "      <td>0.488281</td>\n",
       "    </tr>\n",
       "    <tr>\n",
       "      <th>6</th>\n",
       "      <td>Colin563 found #bitcoin in a User vault at thi...</td>\n",
       "      <td>Colin563 found bitcoin in a User vault at this...</td>\n",
       "      <td>1.000000</td>\n",
       "      <td>1.000000</td>\n",
       "    </tr>\n",
       "    <tr>\n",
       "      <th>7</th>\n",
       "      <td>#love #bitcoin #tumblr #twitter #facebook #ins...</td>\n",
       "      <td>bitcoin                  on orders over $99 at</td>\n",
       "      <td>0.000000</td>\n",
       "      <td>0.000000</td>\n",
       "    </tr>\n",
       "    <tr>\n",
       "      <th>8</th>\n",
       "      <td>@AltcoinDailyio #bitcoin walked so that #altco...</td>\n",
       "      <td>@AltcoinDailyio bitcoin walked so that  can fl...</td>\n",
       "      <td>0.750000</td>\n",
       "      <td>0.414286</td>\n",
       "    </tr>\n",
       "    <tr>\n",
       "      <th>9</th>\n",
       "      <td>USE CODE CRYPTOEVENTS25 TO GET 25% OFF YOUR TI...</td>\n",
       "      <td>USE CODE CRYPTOEVENTS25 TO GET 25% OFF YOUR TI...</td>\n",
       "      <td>0.000000</td>\n",
       "      <td>0.000000</td>\n",
       "    </tr>\n",
       "    <tr>\n",
       "      <th>10</th>\n",
       "      <td>@minui_7 @opensea #Flokifam🐶 This year has bee...</td>\n",
       "      <td>@minui_7 @opensea 🐶 This year has been incredi...</td>\n",
       "      <td>0.000000</td>\n",
       "      <td>0.000000</td>\n",
       "    </tr>\n",
       "    <tr>\n",
       "      <th>11</th>\n",
       "      <td>#HTR #Hathor 4th touch of support, will we hol...</td>\n",
       "      <td>4th touch of support, will we hold it? Need ...</td>\n",
       "      <td>0.000000</td>\n",
       "      <td>0.000000</td>\n",
       "    </tr>\n",
       "    <tr>\n",
       "      <th>12</th>\n",
       "      <td>@intocryptoverse All you need to own is #Bitcoin</td>\n",
       "      <td>@intocryptoverse All you need to own is Bitcoin</td>\n",
       "      <td>1.000000</td>\n",
       "      <td>0.600000</td>\n",
       "    </tr>\n",
       "    <tr>\n",
       "      <th>13</th>\n",
       "      <td>Hey I joined a network called SurveyJ and earn...</td>\n",
       "      <td>Hey I joined a network called SurveyJ and earn...</td>\n",
       "      <td>0.496970</td>\n",
       "      <td>0.142424</td>\n",
       "    </tr>\n",
       "    <tr>\n",
       "      <th>14</th>\n",
       "      <td>@TheBinanceNFT Last Hours ⬇️⬇️⬇️\\n\\nhttps://t....</td>\n",
       "      <td>@TheBinanceNFT Last Hours ⬇️⬇️⬇️  ----    Bitc...</td>\n",
       "      <td>0.066667</td>\n",
       "      <td>0.000000</td>\n",
       "    </tr>\n",
       "  </tbody>\n",
       "</table>\n",
       "</div>"
      ],
      "text/plain": [
       "                                               Tweets  \\\n",
       "0   See you later!!! #ADA #XRP #CARDANO #BITCOIN #...   \n",
       "1   👋 A new block was found on the #Bitcoin networ...   \n",
       "2   ฿ value over 1 year: +402.35%, (+$34280) [Curr...   \n",
       "3   Application-based public blockchain: \\n$eth\\n$...   \n",
       "4   So far this #Bitcoin dip tweet is raging well....   \n",
       "5   @Axion_TheFuture #Axion is rarest! Having #Bit...   \n",
       "6   Colin563 found #bitcoin in a User vault at thi...   \n",
       "7   #love #bitcoin #tumblr #twitter #facebook #ins...   \n",
       "8   @AltcoinDailyio #bitcoin walked so that #altco...   \n",
       "9   USE CODE CRYPTOEVENTS25 TO GET 25% OFF YOUR TI...   \n",
       "10  @minui_7 @opensea #Flokifam🐶 This year has bee...   \n",
       "11  #HTR #Hathor 4th touch of support, will we hol...   \n",
       "12   @intocryptoverse All you need to own is #Bitcoin   \n",
       "13  Hey I joined a network called SurveyJ and earn...   \n",
       "14  @TheBinanceNFT Last Hours ⬇️⬇️⬇️\\n\\nhttps://t....   \n",
       "\n",
       "                                       Cleaned Tweets  Subjetivity  Polarity  \n",
       "0             See you later!!!     Bitcoin                0.000000  0.000000  \n",
       "1   👋 A new block was found on the Bitcoin network...     0.284848  0.045455  \n",
       "2   ฿ value over 1 year: +402.35%, (+$34280) [Curr...     0.400000  0.000000  \n",
       "3   Application-based public blockchain: $eth$bnb$...     0.533333  0.300000  \n",
       "4   So far this Bitcoin dip tweet is raging well.....     0.833333  0.441667  \n",
       "5   @Axion_TheFuture  is rarest! Having Bitcoin di...     0.250000  0.488281  \n",
       "6   Colin563 found bitcoin in a User vault at this...     1.000000  1.000000  \n",
       "7     bitcoin                  on orders over $99 at      0.000000  0.000000  \n",
       "8   @AltcoinDailyio bitcoin walked so that  can fl...     0.750000  0.414286  \n",
       "9   USE CODE CRYPTOEVENTS25 TO GET 25% OFF YOUR TI...     0.000000  0.000000  \n",
       "10  @minui_7 @opensea 🐶 This year has been incredi...     0.000000  0.000000  \n",
       "11    4th touch of support, will we hold it? Need ...     0.000000  0.000000  \n",
       "12    @intocryptoverse All you need to own is Bitcoin     1.000000  0.600000  \n",
       "13  Hey I joined a network called SurveyJ and earn...     0.496970  0.142424  \n",
       "14  @TheBinanceNFT Last Hours ⬇️⬇️⬇️  ----    Bitc...     0.066667  0.000000  "
      ]
     },
     "execution_count": 9,
     "metadata": {},
     "output_type": "execute_result"
    }
   ],
   "source": [
    "#create a function to get subjetivity\n",
    "def getSubjectivity(twt):\n",
    "  return TextBlob(twt).sentiment.subjectivity\n",
    "#create a function to get polarity\n",
    "def getPolarity(twt):\n",
    "  return TextBlob(twt).sentiment.polarity\n",
    "\n",
    "#create two new columns called 'Subjetivity' and 'Polarity'\n",
    "df['Subjetivity'] = df['Cleaned Tweets'].apply(getSubjectivity)\n",
    "\n",
    "df['Polarity'] = df['Cleaned Tweets'].apply(getPolarity)\n",
    "\n",
    "df.head(15)"
   ]
  },
  {
   "cell_type": "code",
   "execution_count": 10,
   "metadata": {},
   "outputs": [],
   "source": [
    "#create a function to get sentiment text \n",
    "def getSentiment(score):\n",
    "  if score < 0:\n",
    "    return 'Negative'\n",
    "  elif score == 0:\n",
    "    return 'Neutral'\n",
    "  else:\n",
    "    return 'Positive'\n"
   ]
  },
  {
   "cell_type": "code",
   "execution_count": 11,
   "metadata": {},
   "outputs": [
    {
     "data": {
      "text/html": [
       "<div>\n",
       "<style scoped>\n",
       "    .dataframe tbody tr th:only-of-type {\n",
       "        vertical-align: middle;\n",
       "    }\n",
       "\n",
       "    .dataframe tbody tr th {\n",
       "        vertical-align: top;\n",
       "    }\n",
       "\n",
       "    .dataframe thead th {\n",
       "        text-align: right;\n",
       "    }\n",
       "</style>\n",
       "<table border=\"1\" class=\"dataframe\">\n",
       "  <thead>\n",
       "    <tr style=\"text-align: right;\">\n",
       "      <th></th>\n",
       "      <th>Tweets</th>\n",
       "      <th>Cleaned Tweets</th>\n",
       "      <th>Subjetivity</th>\n",
       "      <th>Polarity</th>\n",
       "      <th>Sentiment</th>\n",
       "    </tr>\n",
       "  </thead>\n",
       "  <tbody>\n",
       "    <tr>\n",
       "      <th>0</th>\n",
       "      <td>See you later!!! #ADA #XRP #CARDANO #BITCOIN #...</td>\n",
       "      <td>See you later!!!     Bitcoin</td>\n",
       "      <td>0.000000</td>\n",
       "      <td>0.000000</td>\n",
       "      <td>Neutral</td>\n",
       "    </tr>\n",
       "    <tr>\n",
       "      <th>1</th>\n",
       "      <td>👋 A new block was found on the #Bitcoin networ...</td>\n",
       "      <td>👋 A new block was found on the Bitcoin network...</td>\n",
       "      <td>0.284848</td>\n",
       "      <td>0.045455</td>\n",
       "      <td>Positive</td>\n",
       "    </tr>\n",
       "    <tr>\n",
       "      <th>2</th>\n",
       "      <td>฿ value over 1 year: +402.35%, (+$34280) [Curr...</td>\n",
       "      <td>฿ value over 1 year: +402.35%, (+$34280) [Curr...</td>\n",
       "      <td>0.400000</td>\n",
       "      <td>0.000000</td>\n",
       "      <td>Neutral</td>\n",
       "    </tr>\n",
       "    <tr>\n",
       "      <th>3</th>\n",
       "      <td>Application-based public blockchain: \\n$eth\\n$...</td>\n",
       "      <td>Application-based public blockchain: $eth$bnb$...</td>\n",
       "      <td>0.533333</td>\n",
       "      <td>0.300000</td>\n",
       "      <td>Positive</td>\n",
       "    </tr>\n",
       "    <tr>\n",
       "      <th>4</th>\n",
       "      <td>So far this #Bitcoin dip tweet is raging well....</td>\n",
       "      <td>So far this Bitcoin dip tweet is raging well.....</td>\n",
       "      <td>0.833333</td>\n",
       "      <td>0.441667</td>\n",
       "      <td>Positive</td>\n",
       "    </tr>\n",
       "    <tr>\n",
       "      <th>5</th>\n",
       "      <td>@Axion_TheFuture #Axion is rarest! Having #Bit...</td>\n",
       "      <td>@Axion_TheFuture  is rarest! Having Bitcoin di...</td>\n",
       "      <td>0.250000</td>\n",
       "      <td>0.488281</td>\n",
       "      <td>Positive</td>\n",
       "    </tr>\n",
       "    <tr>\n",
       "      <th>6</th>\n",
       "      <td>Colin563 found #bitcoin in a User vault at thi...</td>\n",
       "      <td>Colin563 found bitcoin in a User vault at this...</td>\n",
       "      <td>1.000000</td>\n",
       "      <td>1.000000</td>\n",
       "      <td>Positive</td>\n",
       "    </tr>\n",
       "    <tr>\n",
       "      <th>7</th>\n",
       "      <td>#love #bitcoin #tumblr #twitter #facebook #ins...</td>\n",
       "      <td>bitcoin                  on orders over $99 at</td>\n",
       "      <td>0.000000</td>\n",
       "      <td>0.000000</td>\n",
       "      <td>Neutral</td>\n",
       "    </tr>\n",
       "    <tr>\n",
       "      <th>8</th>\n",
       "      <td>@AltcoinDailyio #bitcoin walked so that #altco...</td>\n",
       "      <td>@AltcoinDailyio bitcoin walked so that  can fl...</td>\n",
       "      <td>0.750000</td>\n",
       "      <td>0.414286</td>\n",
       "      <td>Positive</td>\n",
       "    </tr>\n",
       "    <tr>\n",
       "      <th>9</th>\n",
       "      <td>USE CODE CRYPTOEVENTS25 TO GET 25% OFF YOUR TI...</td>\n",
       "      <td>USE CODE CRYPTOEVENTS25 TO GET 25% OFF YOUR TI...</td>\n",
       "      <td>0.000000</td>\n",
       "      <td>0.000000</td>\n",
       "      <td>Neutral</td>\n",
       "    </tr>\n",
       "    <tr>\n",
       "      <th>10</th>\n",
       "      <td>@minui_7 @opensea #Flokifam🐶 This year has bee...</td>\n",
       "      <td>@minui_7 @opensea 🐶 This year has been incredi...</td>\n",
       "      <td>0.000000</td>\n",
       "      <td>0.000000</td>\n",
       "      <td>Neutral</td>\n",
       "    </tr>\n",
       "    <tr>\n",
       "      <th>11</th>\n",
       "      <td>#HTR #Hathor 4th touch of support, will we hol...</td>\n",
       "      <td>4th touch of support, will we hold it? Need ...</td>\n",
       "      <td>0.000000</td>\n",
       "      <td>0.000000</td>\n",
       "      <td>Neutral</td>\n",
       "    </tr>\n",
       "    <tr>\n",
       "      <th>12</th>\n",
       "      <td>@intocryptoverse All you need to own is #Bitcoin</td>\n",
       "      <td>@intocryptoverse All you need to own is Bitcoin</td>\n",
       "      <td>1.000000</td>\n",
       "      <td>0.600000</td>\n",
       "      <td>Positive</td>\n",
       "    </tr>\n",
       "    <tr>\n",
       "      <th>13</th>\n",
       "      <td>Hey I joined a network called SurveyJ and earn...</td>\n",
       "      <td>Hey I joined a network called SurveyJ and earn...</td>\n",
       "      <td>0.496970</td>\n",
       "      <td>0.142424</td>\n",
       "      <td>Positive</td>\n",
       "    </tr>\n",
       "    <tr>\n",
       "      <th>14</th>\n",
       "      <td>@TheBinanceNFT Last Hours ⬇️⬇️⬇️\\n\\nhttps://t....</td>\n",
       "      <td>@TheBinanceNFT Last Hours ⬇️⬇️⬇️  ----    Bitc...</td>\n",
       "      <td>0.066667</td>\n",
       "      <td>0.000000</td>\n",
       "      <td>Neutral</td>\n",
       "    </tr>\n",
       "  </tbody>\n",
       "</table>\n",
       "</div>"
      ],
      "text/plain": [
       "                                               Tweets  \\\n",
       "0   See you later!!! #ADA #XRP #CARDANO #BITCOIN #...   \n",
       "1   👋 A new block was found on the #Bitcoin networ...   \n",
       "2   ฿ value over 1 year: +402.35%, (+$34280) [Curr...   \n",
       "3   Application-based public blockchain: \\n$eth\\n$...   \n",
       "4   So far this #Bitcoin dip tweet is raging well....   \n",
       "5   @Axion_TheFuture #Axion is rarest! Having #Bit...   \n",
       "6   Colin563 found #bitcoin in a User vault at thi...   \n",
       "7   #love #bitcoin #tumblr #twitter #facebook #ins...   \n",
       "8   @AltcoinDailyio #bitcoin walked so that #altco...   \n",
       "9   USE CODE CRYPTOEVENTS25 TO GET 25% OFF YOUR TI...   \n",
       "10  @minui_7 @opensea #Flokifam🐶 This year has bee...   \n",
       "11  #HTR #Hathor 4th touch of support, will we hol...   \n",
       "12   @intocryptoverse All you need to own is #Bitcoin   \n",
       "13  Hey I joined a network called SurveyJ and earn...   \n",
       "14  @TheBinanceNFT Last Hours ⬇️⬇️⬇️\\n\\nhttps://t....   \n",
       "\n",
       "                                       Cleaned Tweets  Subjetivity  Polarity  \\\n",
       "0             See you later!!!     Bitcoin                0.000000  0.000000   \n",
       "1   👋 A new block was found on the Bitcoin network...     0.284848  0.045455   \n",
       "2   ฿ value over 1 year: +402.35%, (+$34280) [Curr...     0.400000  0.000000   \n",
       "3   Application-based public blockchain: $eth$bnb$...     0.533333  0.300000   \n",
       "4   So far this Bitcoin dip tweet is raging well.....     0.833333  0.441667   \n",
       "5   @Axion_TheFuture  is rarest! Having Bitcoin di...     0.250000  0.488281   \n",
       "6   Colin563 found bitcoin in a User vault at this...     1.000000  1.000000   \n",
       "7     bitcoin                  on orders over $99 at      0.000000  0.000000   \n",
       "8   @AltcoinDailyio bitcoin walked so that  can fl...     0.750000  0.414286   \n",
       "9   USE CODE CRYPTOEVENTS25 TO GET 25% OFF YOUR TI...     0.000000  0.000000   \n",
       "10  @minui_7 @opensea 🐶 This year has been incredi...     0.000000  0.000000   \n",
       "11    4th touch of support, will we hold it? Need ...     0.000000  0.000000   \n",
       "12    @intocryptoverse All you need to own is Bitcoin     1.000000  0.600000   \n",
       "13  Hey I joined a network called SurveyJ and earn...     0.496970  0.142424   \n",
       "14  @TheBinanceNFT Last Hours ⬇️⬇️⬇️  ----    Bitc...     0.066667  0.000000   \n",
       "\n",
       "   Sentiment  \n",
       "0    Neutral  \n",
       "1   Positive  \n",
       "2    Neutral  \n",
       "3   Positive  \n",
       "4   Positive  \n",
       "5   Positive  \n",
       "6   Positive  \n",
       "7    Neutral  \n",
       "8   Positive  \n",
       "9    Neutral  \n",
       "10   Neutral  \n",
       "11   Neutral  \n",
       "12  Positive  \n",
       "13  Positive  \n",
       "14   Neutral  "
      ]
     },
     "execution_count": 11,
     "metadata": {},
     "output_type": "execute_result"
    }
   ],
   "source": [
    "#create a column to store the text sentiment\n",
    "df['Sentiment'] = df['Polarity'].apply(getSentiment)\n",
    "\n",
    "df.head(15)"
   ]
  },
  {
   "cell_type": "code",
   "execution_count": 12,
   "metadata": {},
   "outputs": [
    {
     "name": "stderr",
     "output_type": "stream",
     "text": [
      "/home/edmundotome/anaconda3/envs/Signal-Processing/lib/python3.8/site-packages/seaborn/_decorators.py:36: FutureWarning: Pass the following variables as keyword args: x, y. From version 0.12, the only valid positional argument will be `data`, and passing other arguments without an explicit keyword will result in an error or misinterpretation.\n",
      "  warnings.warn(\n"
     ]
    },
    {
     "data": {
      "image/png": "[encoded data removed]",
      "text/plain": [
       "<Figure size 720x432 with 1 Axes>"
      ]
     },
     "metadata": {
      "needs_background": "light"
     },
     "output_type": "display_data"
    }
   ],
   "source": [
    "ax = sns.relplot(df['Polarity'], df['Subjetivity'], hue = df['Polarity'], palette='RdBu')\n",
    "ax.fig.set_size_inches(10,6)\n",
    "\n",
    "norm = plt.Normalize(df['Polarity'].min(), df['Polarity'].max())\n",
    "sm = plt.cm.ScalarMappable(cmap=\"RdBu\", norm=norm)\n",
    "sm.set_array([])\n",
    "\n",
    "plt.show()"
   ]
  },
  {
   "cell_type": "code",
   "execution_count": 13,
   "metadata": {},
   "outputs": [
    {
     "data": {
      "image/png": "[encoded data removed]",
      "text/plain": [
       "<Figure size 432x288 with 1 Axes>"
      ]
     },
     "metadata": {
      "needs_background": "light"
     },
     "output_type": "display_data"
    }
   ],
   "source": [
    "#create a barchar to show the count of positive, neutral and negative sentiments\n",
    "df['Sentiment'].value_counts().plot(kind='bar')\n",
    "plt.title('Sentiment Analysis Bar Plot')\n",
    "plt.xlabel('Sentiment')\n",
    "plt.ylabel('Number of Tweets')\n",
    "plt.show()"
   ]
  },
  {
   "cell_type": "code",
   "execution_count": 14,
   "metadata": {},
   "outputs": [
    {
     "data": {
      "text/plain": [
       "Positive    494\n",
       "Neutral     388\n",
       "Negative    118\n",
       "Name: Sentiment, dtype: int64"
      ]
     },
     "execution_count": 14,
     "metadata": {},
     "output_type": "execute_result"
    }
   ],
   "source": [
    "df['Sentiment'].value_counts()"
   ]
  },
  {
   "cell_type": "code",
   "execution_count": 15,
   "metadata": {},
   "outputs": [
    {
     "data": {
      "text/plain": [
       "[494, 388, 118]"
      ]
     },
     "execution_count": 15,
     "metadata": {},
     "output_type": "execute_result"
    }
   ],
   "source": [
    "val_count = list(df['Sentiment'].value_counts())\n",
    "val_count"
   ]
  },
  {
   "cell_type": "code",
   "execution_count": 16,
   "metadata": {},
   "outputs": [
    {
     "data": {
      "text/plain": [
       "[494, 388, 118]"
      ]
     },
     "execution_count": 16,
     "metadata": {},
     "output_type": "execute_result"
    }
   ],
   "source": [
    "lst_df = list(df['Sentiment'].value_counts())\n",
    "lst_df"
   ]
  },
  {
   "cell_type": "code",
   "execution_count": 17,
   "metadata": {},
   "outputs": [
    {
     "name": "stdout",
     "output_type": "stream",
     "text": [
      "  Sentiment  Positive  Neutral  Negative\n",
      "0     day 1     494.0    372.0     134.0\n",
      "1     day 2     494.0    388.0     118.0\n"
     ]
    }
   ],
   "source": [
    "dfs = pd.read_csv(\"r_sentiments.csv\")\n",
    "  \n",
    "# updating the column value/data\n",
    "dfs.loc[1, 'Sentiment'] = 'day 2'\n",
    "dfs.loc[1, 'Positive'] = lst_df[0]\n",
    "dfs.loc[1, 'Neutral'] = lst_df[1]\n",
    "dfs.loc[1, 'Negative'] = lst_df[2]\n",
    "  \n",
    "# writing into the file\n",
    "dfs.to_csv(\"r_sentiments.csv\", index=False)\n",
    "  \n",
    "print(dfs)"
   ]
  },
  {
   "cell_type": "code",
   "execution_count": null,
   "metadata": {},
   "outputs": [],
   "source": []
  }
 ],
 "metadata": {
  "kernelspec": {
   "display_name": "Python 3",
   "language": "python",
   "name": "python3"
  },
  "language_info": {
   "codemirror_mode": {
    "name": "ipython",
    "version": 3
   },
   "file_extension": ".py",
   "mimetype": "text/x-python",
   "name": "python",
   "nbconvert_exporter": "python",
   "pygments_lexer": "ipython3",
   "version": "3.8.3"
  }
 },
 "nbformat": 4,
 "nbformat_minor": 4
}
