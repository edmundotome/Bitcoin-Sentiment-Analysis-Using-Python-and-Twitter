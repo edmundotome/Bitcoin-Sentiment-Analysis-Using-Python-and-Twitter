{
 "cells": [
  {
   "cell_type": "markdown",
   "metadata": {},
   "source": [
    "# 2nd Oct"
   ]
  },
  {
   "cell_type": "code",
   "execution_count": 1,
   "metadata": {},
   "outputs": [],
   "source": [
    "import tweepy\n",
    "import pandas as pd\n",
    "import numpy as np\n",
    "import re\n",
    "import seaborn as sns\n",
    "import matplotlib.pyplot as plt\n",
    "from textblob import TextBlob\n",
    "from tweepy.auth import OAuthHandler"
   ]
  },
  {
   "cell_type": "code",
   "execution_count": 2,
   "metadata": {},
   "outputs": [],
   "source": [
    "path = r'/home/edmundotome/Documents/Github Projects/LogAPItwitter.csv'\n",
    "log = pd.read_csv(path)"
   ]
  },
  {
   "cell_type": "code",
   "execution_count": 3,
   "metadata": {},
   "outputs": [],
   "source": [
    "consumerKey = log['API Key'][0]\n",
    "consumerSecret = log['API Key Secret'][0]\n",
    "\n",
    "accessToken = log['Access Token'][0]\n",
    "accessTokenSecret = log['Access Token Secret'][0]"
   ]
  },
  {
   "cell_type": "code",
   "execution_count": 4,
   "metadata": {},
   "outputs": [],
   "source": [
    "auth = OAuthHandler(consumerKey, consumerSecret)\n",
    "auth.set_access_token(accessToken, accessTokenSecret)\n",
    "\n",
    "api = tweepy.API(auth, wait_on_rate_limit=True)"
   ]
  },
  {
   "cell_type": "code",
   "execution_count": 5,
   "metadata": {},
   "outputs": [],
   "source": [
    "#gather 1000 tweets about Bitcoin and filter out any retweets 'RT'\n",
    "search_term = '#bitcoin -filter:retweets'\n",
    "\n",
    "#create a cursor object\n",
    "tweets = tweepy.Cursor(api.search, q=search_term, lang='en', since='2021-10-02', tweet_mode='extended').items(1000)\n",
    "\n",
    "#store tweets in a variable and get the full text\n",
    "all_tweets = [tweet.full_text for tweet in tweets]"
   ]
  },
  {
   "cell_type": "code",
   "execution_count": 6,
   "metadata": {},
   "outputs": [
    {
     "data": {
      "text/html": [
       "<div>\n",
       "<style scoped>\n",
       "    .dataframe tbody tr th:only-of-type {\n",
       "        vertical-align: middle;\n",
       "    }\n",
       "\n",
       "    .dataframe tbody tr th {\n",
       "        vertical-align: top;\n",
       "    }\n",
       "\n",
       "    .dataframe thead th {\n",
       "        text-align: right;\n",
       "    }\n",
       "</style>\n",
       "<table border=\"1\" class=\"dataframe\">\n",
       "  <thead>\n",
       "    <tr style=\"text-align: right;\">\n",
       "      <th></th>\n",
       "      <th>Tweets</th>\n",
       "    </tr>\n",
       "  </thead>\n",
       "  <tbody>\n",
       "    <tr>\n",
       "      <th>0</th>\n",
       "      <td>#Bitcoin attacking the H1 EMA30 again.\\nIt has...</td>\n",
       "    </tr>\n",
       "    <tr>\n",
       "      <th>1</th>\n",
       "      <td>@Mononoke_Inu Today 17th marks the wolf's moon...</td>\n",
       "    </tr>\n",
       "    <tr>\n",
       "      <th>2</th>\n",
       "      <td>If we fail to hold 42k than 40k is the next st...</td>\n",
       "    </tr>\n",
       "    <tr>\n",
       "      <th>3</th>\n",
       "      <td>Jordan Peterson got orange-pilled hard and saw...</td>\n",
       "    </tr>\n",
       "    <tr>\n",
       "      <th>4</th>\n",
       "      <td>#Bitcoin attacking the H1 EMA30 again.\\nIt has...</td>\n",
       "    </tr>\n",
       "    <tr>\n",
       "      <th>5</th>\n",
       "      <td>#Bitcoin bro people actually die bro yoir so f...</td>\n",
       "    </tr>\n",
       "    <tr>\n",
       "      <th>6</th>\n",
       "      <td>A promising project.  Hopefully this project w...</td>\n",
       "    </tr>\n",
       "    <tr>\n",
       "      <th>7</th>\n",
       "      <td>#Bitcoin attacking the H1 EMA30 again.\\nIt has...</td>\n",
       "    </tr>\n",
       "    <tr>\n",
       "      <th>8</th>\n",
       "      <td>#Bitcoin attacking the H1 EMA30 again.\\nIt has...</td>\n",
       "    </tr>\n",
       "    <tr>\n",
       "      <th>9</th>\n",
       "      <td>#Bitcoin attacking the H1 EMA30 again.\\nIt has...</td>\n",
       "    </tr>\n",
       "  </tbody>\n",
       "</table>\n",
       "</div>"
      ],
      "text/plain": [
       "                                              Tweets\n",
       "0  #Bitcoin attacking the H1 EMA30 again.\\nIt has...\n",
       "1  @Mononoke_Inu Today 17th marks the wolf's moon...\n",
       "2  If we fail to hold 42k than 40k is the next st...\n",
       "3  Jordan Peterson got orange-pilled hard and saw...\n",
       "4  #Bitcoin attacking the H1 EMA30 again.\\nIt has...\n",
       "5  #Bitcoin bro people actually die bro yoir so f...\n",
       "6  A promising project.  Hopefully this project w...\n",
       "7  #Bitcoin attacking the H1 EMA30 again.\\nIt has...\n",
       "8  #Bitcoin attacking the H1 EMA30 again.\\nIt has...\n",
       "9  #Bitcoin attacking the H1 EMA30 again.\\nIt has..."
      ]
     },
     "execution_count": 6,
     "metadata": {},
     "output_type": "execute_result"
    }
   ],
   "source": [
    "#create a dataframe to store the tweets with a column called 'tweets'\n",
    "df = pd.DataFrame(all_tweets, columns=['Tweets'])\n",
    "#show the first 5 rows of data\n",
    "df.head(10)"
   ]
  },
  {
   "cell_type": "code",
   "execution_count": 7,
   "metadata": {},
   "outputs": [],
   "source": [
    "#create a function to clean the tweets \n",
    "def cleanTwt(twt):\n",
    "  twt = re.sub('#bitcoin', 'bitcoin', twt) #removes the '#' from bitcoin\n",
    "  twt = re.sub('#Bitcoin', 'Bitcoin', twt)\n",
    "  twt = re.sub('#BTC', 'Bitcoin', twt)\n",
    "  twt = re.sub('#[A-Za-z0-9]+', '', twt) #removes any strings with a '#'\n",
    "  twt = re.sub('\\\\n', '', twt) #removes the '\\n' string\n",
    "  twt = re.sub('https?:\\/\\/\\S+', '', twt) #removes any hyperlinks\n",
    "  return twt"
   ]
  },
  {
   "cell_type": "code",
   "execution_count": 8,
   "metadata": {},
   "outputs": [
    {
     "data": {
      "text/html": [
       "<div>\n",
       "<style scoped>\n",
       "    .dataframe tbody tr th:only-of-type {\n",
       "        vertical-align: middle;\n",
       "    }\n",
       "\n",
       "    .dataframe tbody tr th {\n",
       "        vertical-align: top;\n",
       "    }\n",
       "\n",
       "    .dataframe thead th {\n",
       "        text-align: right;\n",
       "    }\n",
       "</style>\n",
       "<table border=\"1\" class=\"dataframe\">\n",
       "  <thead>\n",
       "    <tr style=\"text-align: right;\">\n",
       "      <th></th>\n",
       "      <th>Tweets</th>\n",
       "      <th>Cleaned Tweets</th>\n",
       "    </tr>\n",
       "  </thead>\n",
       "  <tbody>\n",
       "    <tr>\n",
       "      <th>0</th>\n",
       "      <td>#Bitcoin attacking the H1 EMA30 again.\\nIt has...</td>\n",
       "      <td>Bitcoin attacking the H1 EMA30 again.It has be...</td>\n",
       "    </tr>\n",
       "    <tr>\n",
       "      <th>1</th>\n",
       "      <td>@Mononoke_Inu Today 17th marks the wolf's moon...</td>\n",
       "      <td>@Mononoke_Inu Today 17th marks the wolf's moon...</td>\n",
       "    </tr>\n",
       "    <tr>\n",
       "      <th>2</th>\n",
       "      <td>If we fail to hold 42k than 40k is the next st...</td>\n",
       "      <td>If we fail to hold 42k than 40k is the next st...</td>\n",
       "    </tr>\n",
       "    <tr>\n",
       "      <th>3</th>\n",
       "      <td>Jordan Peterson got orange-pilled hard and saw...</td>\n",
       "      <td>Jordan Peterson got orange-pilled hard and saw...</td>\n",
       "    </tr>\n",
       "    <tr>\n",
       "      <th>4</th>\n",
       "      <td>#Bitcoin attacking the H1 EMA30 again.\\nIt has...</td>\n",
       "      <td>Bitcoin attacking the H1 EMA30 again.It has be...</td>\n",
       "    </tr>\n",
       "  </tbody>\n",
       "</table>\n",
       "</div>"
      ],
      "text/plain": [
       "                                              Tweets  \\\n",
       "0  #Bitcoin attacking the H1 EMA30 again.\\nIt has...   \n",
       "1  @Mononoke_Inu Today 17th marks the wolf's moon...   \n",
       "2  If we fail to hold 42k than 40k is the next st...   \n",
       "3  Jordan Peterson got orange-pilled hard and saw...   \n",
       "4  #Bitcoin attacking the H1 EMA30 again.\\nIt has...   \n",
       "\n",
       "                                      Cleaned Tweets  \n",
       "0  Bitcoin attacking the H1 EMA30 again.It has be...  \n",
       "1  @Mononoke_Inu Today 17th marks the wolf's moon...  \n",
       "2  If we fail to hold 42k than 40k is the next st...  \n",
       "3  Jordan Peterson got orange-pilled hard and saw...  \n",
       "4  Bitcoin attacking the H1 EMA30 again.It has be...  "
      ]
     },
     "execution_count": 8,
     "metadata": {},
     "output_type": "execute_result"
    }
   ],
   "source": [
    "#clean the tweets\n",
    "df['Cleaned Tweets'] = df['Tweets'].apply(cleanTwt)\n",
    "#show the dataset\n",
    "df.head()"
   ]
  },
  {
   "cell_type": "code",
   "execution_count": 9,
   "metadata": {},
   "outputs": [
    {
     "data": {
      "text/html": [
       "<div>\n",
       "<style scoped>\n",
       "    .dataframe tbody tr th:only-of-type {\n",
       "        vertical-align: middle;\n",
       "    }\n",
       "\n",
       "    .dataframe tbody tr th {\n",
       "        vertical-align: top;\n",
       "    }\n",
       "\n",
       "    .dataframe thead th {\n",
       "        text-align: right;\n",
       "    }\n",
       "</style>\n",
       "<table border=\"1\" class=\"dataframe\">\n",
       "  <thead>\n",
       "    <tr style=\"text-align: right;\">\n",
       "      <th></th>\n",
       "      <th>Tweets</th>\n",
       "      <th>Cleaned Tweets</th>\n",
       "      <th>Subjetivity</th>\n",
       "      <th>Polarity</th>\n",
       "    </tr>\n",
       "  </thead>\n",
       "  <tbody>\n",
       "    <tr>\n",
       "      <th>0</th>\n",
       "      <td>#Bitcoin attacking the H1 EMA30 again.\\nIt has...</td>\n",
       "      <td>Bitcoin attacking the H1 EMA30 again.It has be...</td>\n",
       "      <td>0.393750</td>\n",
       "      <td>-0.156250</td>\n",
       "    </tr>\n",
       "    <tr>\n",
       "      <th>1</th>\n",
       "      <td>@Mononoke_Inu Today 17th marks the wolf's moon...</td>\n",
       "      <td>@Mononoke_Inu Today 17th marks the wolf's moon...</td>\n",
       "      <td>0.700000</td>\n",
       "      <td>0.150000</td>\n",
       "    </tr>\n",
       "    <tr>\n",
       "      <th>2</th>\n",
       "      <td>If we fail to hold 42k than 40k is the next st...</td>\n",
       "      <td>If we fail to hold 42k than 40k is the next st...</td>\n",
       "      <td>0.150000</td>\n",
       "      <td>-0.250000</td>\n",
       "    </tr>\n",
       "    <tr>\n",
       "      <th>3</th>\n",
       "      <td>Jordan Peterson got orange-pilled hard and saw...</td>\n",
       "      <td>Jordan Peterson got orange-pilled hard and saw...</td>\n",
       "      <td>0.541667</td>\n",
       "      <td>-0.291667</td>\n",
       "    </tr>\n",
       "    <tr>\n",
       "      <th>4</th>\n",
       "      <td>#Bitcoin attacking the H1 EMA30 again.\\nIt has...</td>\n",
       "      <td>Bitcoin attacking the H1 EMA30 again.It has be...</td>\n",
       "      <td>0.393750</td>\n",
       "      <td>-0.156250</td>\n",
       "    </tr>\n",
       "    <tr>\n",
       "      <th>5</th>\n",
       "      <td>#Bitcoin bro people actually die bro yoir so f...</td>\n",
       "      <td>Bitcoin bro people actually die bro yoir so fa...</td>\n",
       "      <td>0.775000</td>\n",
       "      <td>-0.131250</td>\n",
       "    </tr>\n",
       "    <tr>\n",
       "      <th>6</th>\n",
       "      <td>A promising project.  Hopefully this project w...</td>\n",
       "      <td>A promising project.  Hopefully this project w...</td>\n",
       "      <td>0.250000</td>\n",
       "      <td>0.250000</td>\n",
       "    </tr>\n",
       "    <tr>\n",
       "      <th>7</th>\n",
       "      <td>#Bitcoin attacking the H1 EMA30 again.\\nIt has...</td>\n",
       "      <td>Bitcoin attacking the H1 EMA30 again.It has be...</td>\n",
       "      <td>0.393750</td>\n",
       "      <td>-0.156250</td>\n",
       "    </tr>\n",
       "    <tr>\n",
       "      <th>8</th>\n",
       "      <td>#Bitcoin attacking the H1 EMA30 again.\\nIt has...</td>\n",
       "      <td>Bitcoin attacking the H1 EMA30 again.It has be...</td>\n",
       "      <td>0.393750</td>\n",
       "      <td>-0.156250</td>\n",
       "    </tr>\n",
       "    <tr>\n",
       "      <th>9</th>\n",
       "      <td>#Bitcoin attacking the H1 EMA30 again.\\nIt has...</td>\n",
       "      <td>Bitcoin attacking the H1 EMA30 again.It has be...</td>\n",
       "      <td>0.393750</td>\n",
       "      <td>-0.156250</td>\n",
       "    </tr>\n",
       "    <tr>\n",
       "      <th>10</th>\n",
       "      <td>Where is my Lambo? 🤣🤣🤣🤣🤣\\n\\n#Cryptogaming\\n#cr...</td>\n",
       "      <td>Where is my Lambo? 🤣🤣🤣🤣🤣          Bitcoin</td>\n",
       "      <td>0.000000</td>\n",
       "      <td>0.000000</td>\n",
       "    </tr>\n",
       "    <tr>\n",
       "      <th>11</th>\n",
       "      <td>#linkedin #twitter #facebook #instagram #bitco...</td>\n",
       "      <td>bitcoin              SAVE BIG ON AIRPORT P...</td>\n",
       "      <td>0.100000</td>\n",
       "      <td>0.000000</td>\n",
       "    </tr>\n",
       "    <tr>\n",
       "      <th>12</th>\n",
       "      <td>#linkedin #twitter #facebook #instagram #tumbl...</td>\n",
       "      <td>bitcoin   on orders over $99</td>\n",
       "      <td>0.000000</td>\n",
       "      <td>0.000000</td>\n",
       "    </tr>\n",
       "    <tr>\n",
       "      <th>13</th>\n",
       "      <td>#linkedin #twitter #facebook #instagram #doge ...</td>\n",
       "      <td>bitcoin  on purchases over $25...</td>\n",
       "      <td>0.000000</td>\n",
       "      <td>0.000000</td>\n",
       "    </tr>\n",
       "    <tr>\n",
       "      <th>14</th>\n",
       "      <td>🟩 Block 719104 ⛏ ⛏\\n\\n📅 17th Jan 2022, 07:24:3...</td>\n",
       "      <td>🟩 Block 719104 ⛏ ⛏📅 17th Jan 2022, 07:24:32 GM...</td>\n",
       "      <td>0.000000</td>\n",
       "      <td>0.000000</td>\n",
       "    </tr>\n",
       "  </tbody>\n",
       "</table>\n",
       "</div>"
      ],
      "text/plain": [
       "                                               Tweets  \\\n",
       "0   #Bitcoin attacking the H1 EMA30 again.\\nIt has...   \n",
       "1   @Mononoke_Inu Today 17th marks the wolf's moon...   \n",
       "2   If we fail to hold 42k than 40k is the next st...   \n",
       "3   Jordan Peterson got orange-pilled hard and saw...   \n",
       "4   #Bitcoin attacking the H1 EMA30 again.\\nIt has...   \n",
       "5   #Bitcoin bro people actually die bro yoir so f...   \n",
       "6   A promising project.  Hopefully this project w...   \n",
       "7   #Bitcoin attacking the H1 EMA30 again.\\nIt has...   \n",
       "8   #Bitcoin attacking the H1 EMA30 again.\\nIt has...   \n",
       "9   #Bitcoin attacking the H1 EMA30 again.\\nIt has...   \n",
       "10  Where is my Lambo? 🤣🤣🤣🤣🤣\\n\\n#Cryptogaming\\n#cr...   \n",
       "11  #linkedin #twitter #facebook #instagram #bitco...   \n",
       "12  #linkedin #twitter #facebook #instagram #tumbl...   \n",
       "13  #linkedin #twitter #facebook #instagram #doge ...   \n",
       "14  🟩 Block 719104 ⛏ ⛏\\n\\n📅 17th Jan 2022, 07:24:3...   \n",
       "\n",
       "                                       Cleaned Tweets  Subjetivity  Polarity  \n",
       "0   Bitcoin attacking the H1 EMA30 again.It has be...     0.393750 -0.156250  \n",
       "1   @Mononoke_Inu Today 17th marks the wolf's moon...     0.700000  0.150000  \n",
       "2   If we fail to hold 42k than 40k is the next st...     0.150000 -0.250000  \n",
       "3   Jordan Peterson got orange-pilled hard and saw...     0.541667 -0.291667  \n",
       "4   Bitcoin attacking the H1 EMA30 again.It has be...     0.393750 -0.156250  \n",
       "5   Bitcoin bro people actually die bro yoir so fa...     0.775000 -0.131250  \n",
       "6   A promising project.  Hopefully this project w...     0.250000  0.250000  \n",
       "7   Bitcoin attacking the H1 EMA30 again.It has be...     0.393750 -0.156250  \n",
       "8   Bitcoin attacking the H1 EMA30 again.It has be...     0.393750 -0.156250  \n",
       "9   Bitcoin attacking the H1 EMA30 again.It has be...     0.393750 -0.156250  \n",
       "10       Where is my Lambo? 🤣🤣🤣🤣🤣          Bitcoin        0.000000  0.000000  \n",
       "11      bitcoin              SAVE BIG ON AIRPORT P...     0.100000  0.000000  \n",
       "12                      bitcoin   on orders over $99      0.000000  0.000000  \n",
       "13                  bitcoin  on purchases over $25...     0.000000  0.000000  \n",
       "14  🟩 Block 719104 ⛏ ⛏📅 17th Jan 2022, 07:24:32 GM...     0.000000  0.000000  "
      ]
     },
     "execution_count": 9,
     "metadata": {},
     "output_type": "execute_result"
    }
   ],
   "source": [
    "#create a function to get subjetivity\n",
    "def getSubjectivity(twt):\n",
    "  return TextBlob(twt).sentiment.subjectivity\n",
    "#create a function to get polarity\n",
    "def getPolarity(twt):\n",
    "  return TextBlob(twt).sentiment.polarity\n",
    "\n",
    "#create two new columns called 'Subjetivity' and 'Polarity'\n",
    "df['Subjetivity'] = df['Cleaned Tweets'].apply(getSubjectivity)\n",
    "\n",
    "df['Polarity'] = df['Cleaned Tweets'].apply(getPolarity)\n",
    "\n",
    "df.head(15)"
   ]
  },
  {
   "cell_type": "code",
   "execution_count": 10,
   "metadata": {},
   "outputs": [],
   "source": [
    "#create a function to get sentiment text \n",
    "def getSentiment(score):\n",
    "  if score < 0:\n",
    "    return 'Negative'\n",
    "  elif score == 0:\n",
    "    return 'Neutral'\n",
    "  else:\n",
    "    return 'Positive'\n"
   ]
  },
  {
   "cell_type": "code",
   "execution_count": 11,
   "metadata": {},
   "outputs": [
    {
     "data": {
      "text/html": [
       "<div>\n",
       "<style scoped>\n",
       "    .dataframe tbody tr th:only-of-type {\n",
       "        vertical-align: middle;\n",
       "    }\n",
       "\n",
       "    .dataframe tbody tr th {\n",
       "        vertical-align: top;\n",
       "    }\n",
       "\n",
       "    .dataframe thead th {\n",
       "        text-align: right;\n",
       "    }\n",
       "</style>\n",
       "<table border=\"1\" class=\"dataframe\">\n",
       "  <thead>\n",
       "    <tr style=\"text-align: right;\">\n",
       "      <th></th>\n",
       "      <th>Tweets</th>\n",
       "      <th>Cleaned Tweets</th>\n",
       "      <th>Subjetivity</th>\n",
       "      <th>Polarity</th>\n",
       "      <th>Sentiment</th>\n",
       "    </tr>\n",
       "  </thead>\n",
       "  <tbody>\n",
       "    <tr>\n",
       "      <th>0</th>\n",
       "      <td>#Bitcoin attacking the H1 EMA30 again.\\nIt has...</td>\n",
       "      <td>Bitcoin attacking the H1 EMA30 again.It has be...</td>\n",
       "      <td>0.393750</td>\n",
       "      <td>-0.156250</td>\n",
       "      <td>Negative</td>\n",
       "    </tr>\n",
       "    <tr>\n",
       "      <th>1</th>\n",
       "      <td>@Mononoke_Inu Today 17th marks the wolf's moon...</td>\n",
       "      <td>@Mononoke_Inu Today 17th marks the wolf's moon...</td>\n",
       "      <td>0.700000</td>\n",
       "      <td>0.150000</td>\n",
       "      <td>Positive</td>\n",
       "    </tr>\n",
       "    <tr>\n",
       "      <th>2</th>\n",
       "      <td>If we fail to hold 42k than 40k is the next st...</td>\n",
       "      <td>If we fail to hold 42k than 40k is the next st...</td>\n",
       "      <td>0.150000</td>\n",
       "      <td>-0.250000</td>\n",
       "      <td>Negative</td>\n",
       "    </tr>\n",
       "    <tr>\n",
       "      <th>3</th>\n",
       "      <td>Jordan Peterson got orange-pilled hard and saw...</td>\n",
       "      <td>Jordan Peterson got orange-pilled hard and saw...</td>\n",
       "      <td>0.541667</td>\n",
       "      <td>-0.291667</td>\n",
       "      <td>Negative</td>\n",
       "    </tr>\n",
       "    <tr>\n",
       "      <th>4</th>\n",
       "      <td>#Bitcoin attacking the H1 EMA30 again.\\nIt has...</td>\n",
       "      <td>Bitcoin attacking the H1 EMA30 again.It has be...</td>\n",
       "      <td>0.393750</td>\n",
       "      <td>-0.156250</td>\n",
       "      <td>Negative</td>\n",
       "    </tr>\n",
       "    <tr>\n",
       "      <th>5</th>\n",
       "      <td>#Bitcoin bro people actually die bro yoir so f...</td>\n",
       "      <td>Bitcoin bro people actually die bro yoir so fa...</td>\n",
       "      <td>0.775000</td>\n",
       "      <td>-0.131250</td>\n",
       "      <td>Negative</td>\n",
       "    </tr>\n",
       "    <tr>\n",
       "      <th>6</th>\n",
       "      <td>A promising project.  Hopefully this project w...</td>\n",
       "      <td>A promising project.  Hopefully this project w...</td>\n",
       "      <td>0.250000</td>\n",
       "      <td>0.250000</td>\n",
       "      <td>Positive</td>\n",
       "    </tr>\n",
       "    <tr>\n",
       "      <th>7</th>\n",
       "      <td>#Bitcoin attacking the H1 EMA30 again.\\nIt has...</td>\n",
       "      <td>Bitcoin attacking the H1 EMA30 again.It has be...</td>\n",
       "      <td>0.393750</td>\n",
       "      <td>-0.156250</td>\n",
       "      <td>Negative</td>\n",
       "    </tr>\n",
       "    <tr>\n",
       "      <th>8</th>\n",
       "      <td>#Bitcoin attacking the H1 EMA30 again.\\nIt has...</td>\n",
       "      <td>Bitcoin attacking the H1 EMA30 again.It has be...</td>\n",
       "      <td>0.393750</td>\n",
       "      <td>-0.156250</td>\n",
       "      <td>Negative</td>\n",
       "    </tr>\n",
       "    <tr>\n",
       "      <th>9</th>\n",
       "      <td>#Bitcoin attacking the H1 EMA30 again.\\nIt has...</td>\n",
       "      <td>Bitcoin attacking the H1 EMA30 again.It has be...</td>\n",
       "      <td>0.393750</td>\n",
       "      <td>-0.156250</td>\n",
       "      <td>Negative</td>\n",
       "    </tr>\n",
       "    <tr>\n",
       "      <th>10</th>\n",
       "      <td>Where is my Lambo? 🤣🤣🤣🤣🤣\\n\\n#Cryptogaming\\n#cr...</td>\n",
       "      <td>Where is my Lambo? 🤣🤣🤣🤣🤣          Bitcoin</td>\n",
       "      <td>0.000000</td>\n",
       "      <td>0.000000</td>\n",
       "      <td>Neutral</td>\n",
       "    </tr>\n",
       "    <tr>\n",
       "      <th>11</th>\n",
       "      <td>#linkedin #twitter #facebook #instagram #bitco...</td>\n",
       "      <td>bitcoin              SAVE BIG ON AIRPORT P...</td>\n",
       "      <td>0.100000</td>\n",
       "      <td>0.000000</td>\n",
       "      <td>Neutral</td>\n",
       "    </tr>\n",
       "    <tr>\n",
       "      <th>12</th>\n",
       "      <td>#linkedin #twitter #facebook #instagram #tumbl...</td>\n",
       "      <td>bitcoin   on orders over $99</td>\n",
       "      <td>0.000000</td>\n",
       "      <td>0.000000</td>\n",
       "      <td>Neutral</td>\n",
       "    </tr>\n",
       "    <tr>\n",
       "      <th>13</th>\n",
       "      <td>#linkedin #twitter #facebook #instagram #doge ...</td>\n",
       "      <td>bitcoin  on purchases over $25...</td>\n",
       "      <td>0.000000</td>\n",
       "      <td>0.000000</td>\n",
       "      <td>Neutral</td>\n",
       "    </tr>\n",
       "    <tr>\n",
       "      <th>14</th>\n",
       "      <td>🟩 Block 719104 ⛏ ⛏\\n\\n📅 17th Jan 2022, 07:24:3...</td>\n",
       "      <td>🟩 Block 719104 ⛏ ⛏📅 17th Jan 2022, 07:24:32 GM...</td>\n",
       "      <td>0.000000</td>\n",
       "      <td>0.000000</td>\n",
       "      <td>Neutral</td>\n",
       "    </tr>\n",
       "  </tbody>\n",
       "</table>\n",
       "</div>"
      ],
      "text/plain": [
       "                                               Tweets  \\\n",
       "0   #Bitcoin attacking the H1 EMA30 again.\\nIt has...   \n",
       "1   @Mononoke_Inu Today 17th marks the wolf's moon...   \n",
       "2   If we fail to hold 42k than 40k is the next st...   \n",
       "3   Jordan Peterson got orange-pilled hard and saw...   \n",
       "4   #Bitcoin attacking the H1 EMA30 again.\\nIt has...   \n",
       "5   #Bitcoin bro people actually die bro yoir so f...   \n",
       "6   A promising project.  Hopefully this project w...   \n",
       "7   #Bitcoin attacking the H1 EMA30 again.\\nIt has...   \n",
       "8   #Bitcoin attacking the H1 EMA30 again.\\nIt has...   \n",
       "9   #Bitcoin attacking the H1 EMA30 again.\\nIt has...   \n",
       "10  Where is my Lambo? 🤣🤣🤣🤣🤣\\n\\n#Cryptogaming\\n#cr...   \n",
       "11  #linkedin #twitter #facebook #instagram #bitco...   \n",
       "12  #linkedin #twitter #facebook #instagram #tumbl...   \n",
       "13  #linkedin #twitter #facebook #instagram #doge ...   \n",
       "14  🟩 Block 719104 ⛏ ⛏\\n\\n📅 17th Jan 2022, 07:24:3...   \n",
       "\n",
       "                                       Cleaned Tweets  Subjetivity  Polarity  \\\n",
       "0   Bitcoin attacking the H1 EMA30 again.It has be...     0.393750 -0.156250   \n",
       "1   @Mononoke_Inu Today 17th marks the wolf's moon...     0.700000  0.150000   \n",
       "2   If we fail to hold 42k than 40k is the next st...     0.150000 -0.250000   \n",
       "3   Jordan Peterson got orange-pilled hard and saw...     0.541667 -0.291667   \n",
       "4   Bitcoin attacking the H1 EMA30 again.It has be...     0.393750 -0.156250   \n",
       "5   Bitcoin bro people actually die bro yoir so fa...     0.775000 -0.131250   \n",
       "6   A promising project.  Hopefully this project w...     0.250000  0.250000   \n",
       "7   Bitcoin attacking the H1 EMA30 again.It has be...     0.393750 -0.156250   \n",
       "8   Bitcoin attacking the H1 EMA30 again.It has be...     0.393750 -0.156250   \n",
       "9   Bitcoin attacking the H1 EMA30 again.It has be...     0.393750 -0.156250   \n",
       "10       Where is my Lambo? 🤣🤣🤣🤣🤣          Bitcoin        0.000000  0.000000   \n",
       "11      bitcoin              SAVE BIG ON AIRPORT P...     0.100000  0.000000   \n",
       "12                      bitcoin   on orders over $99      0.000000  0.000000   \n",
       "13                  bitcoin  on purchases over $25...     0.000000  0.000000   \n",
       "14  🟩 Block 719104 ⛏ ⛏📅 17th Jan 2022, 07:24:32 GM...     0.000000  0.000000   \n",
       "\n",
       "   Sentiment  \n",
       "0   Negative  \n",
       "1   Positive  \n",
       "2   Negative  \n",
       "3   Negative  \n",
       "4   Negative  \n",
       "5   Negative  \n",
       "6   Positive  \n",
       "7   Negative  \n",
       "8   Negative  \n",
       "9   Negative  \n",
       "10   Neutral  \n",
       "11   Neutral  \n",
       "12   Neutral  \n",
       "13   Neutral  \n",
       "14   Neutral  "
      ]
     },
     "execution_count": 11,
     "metadata": {},
     "output_type": "execute_result"
    }
   ],
   "source": [
    "#create a column to store the text sentiment\n",
    "df['Sentiment'] = df['Polarity'].apply(getSentiment)\n",
    "\n",
    "df.head(15)"
   ]
  },
  {
   "cell_type": "code",
   "execution_count": 12,
   "metadata": {},
   "outputs": [
    {
     "name": "stderr",
     "output_type": "stream",
     "text": [
      "/home/edmundotome/anaconda3/envs/Signal-Processing/lib/python3.8/site-packages/seaborn/_decorators.py:36: FutureWarning: Pass the following variables as keyword args: x, y. From version 0.12, the only valid positional argument will be `data`, and passing other arguments without an explicit keyword will result in an error or misinterpretation.\n",
      "  warnings.warn(\n"
     ]
    },
    {
     "data": {
      "image/png": "[encoded data removed]",
      "text/plain": [
       "<Figure size 720x432 with 1 Axes>"
      ]
     },
     "metadata": {
      "needs_background": "light"
     },
     "output_type": "display_data"
    }
   ],
   "source": [
    "ax = sns.relplot(df['Polarity'], df['Subjetivity'], hue = df['Polarity'], palette='RdBu')\n",
    "ax.fig.set_size_inches(10,6)\n",
    "\n",
    "norm = plt.Normalize(df['Polarity'].min(), df['Polarity'].max())\n",
    "sm = plt.cm.ScalarMappable(cmap=\"RdBu\", norm=norm)\n",
    "sm.set_array([])\n",
    "\n",
    "plt.show()"
   ]
  },
  {
   "cell_type": "code",
   "execution_count": 13,
   "metadata": {},
   "outputs": [
    {
     "data": {
      "image/png": "[encoded data removed]",
      "text/plain": [
       "<Figure size 432x288 with 1 Axes>"
      ]
     },
     "metadata": {
      "needs_background": "light"
     },
     "output_type": "display_data"
    }
   ],
   "source": [
    "#create a barchar to show the count of positive, neutral and negative sentiments\n",
    "df['Sentiment'].value_counts().plot(kind='bar')\n",
    "plt.title('Sentiment Analysis Bar Plot')\n",
    "plt.xlabel('Sentiment')\n",
    "plt.ylabel('Number of Tweets')\n",
    "plt.show()"
   ]
  },
  {
   "cell_type": "code",
   "execution_count": 14,
   "metadata": {},
   "outputs": [
    {
     "data": {
      "text/plain": [
       "Positive    492\n",
       "Neutral     360\n",
       "Negative    148\n",
       "Name: Sentiment, dtype: int64"
      ]
     },
     "execution_count": 14,
     "metadata": {},
     "output_type": "execute_result"
    }
   ],
   "source": [
    "df['Sentiment'].value_counts()"
   ]
  },
  {
   "cell_type": "code",
   "execution_count": 15,
   "metadata": {},
   "outputs": [
    {
     "data": {
      "text/plain": [
       "[492, 360, 148]"
      ]
     },
     "execution_count": 15,
     "metadata": {},
     "output_type": "execute_result"
    }
   ],
   "source": [
    "val_count = list(df['Sentiment'].value_counts())\n",
    "val_count"
   ]
  },
  {
   "cell_type": "code",
   "execution_count": 16,
   "metadata": {},
   "outputs": [
    {
     "data": {
      "text/plain": [
       "[492, 360, 148]"
      ]
     },
     "execution_count": 16,
     "metadata": {},
     "output_type": "execute_result"
    }
   ],
   "source": [
    "lst_df = list(df['Sentiment'].value_counts())\n",
    "lst_df"
   ]
  },
  {
   "cell_type": "code",
   "execution_count": 17,
   "metadata": {},
   "outputs": [
    {
     "name": "stdout",
     "output_type": "stream",
     "text": [
      "  Sentiment  Positive  Neutral  Negative\n",
      "0     day 1     494.0    372.0     134.0\n",
      "1     day 2     494.0    388.0     118.0\n",
      "2     day 3     487.0    416.0      97.0\n",
      "3     day 4     495.0    422.0      83.0\n",
      "4     day 5     492.0    360.0     148.0\n"
     ]
    }
   ],
   "source": [
    "dfs = pd.read_csv(\"r_sentiments.csv\")\n",
    "  \n",
    "# updating the column value/data\n",
    "dfs.loc[4, 'Sentiment'] = 'day 5'\n",
    "dfs.loc[4, 'Positive'] = lst_df[0]\n",
    "dfs.loc[4, 'Neutral'] = lst_df[1]\n",
    "dfs.loc[4, 'Negative'] = lst_df[2]\n",
    "  \n",
    "# writing into the file\n",
    "dfs.to_csv(\"r_sentiments.csv\", index=False)\n",
    "  \n",
    "print(dfs)"
   ]
  },
  {
   "cell_type": "code",
   "execution_count": null,
   "metadata": {},
   "outputs": [],
   "source": []
  },
  {
   "cell_type": "code",
   "execution_count": null,
   "metadata": {},
   "outputs": [],
   "source": []
  },
  {
   "cell_type": "code",
   "execution_count": null,
   "metadata": {},
   "outputs": [],
   "source": []
  }
 ],
 "metadata": {
  "kernelspec": {
   "display_name": "Python 3",
   "language": "python",
   "name": "python3"
  },
  "language_info": {
   "codemirror_mode": {
    "name": "ipython",
    "version": 3
   },
   "file_extension": ".py",
   "mimetype": "text/x-python",
   "name": "python",
   "nbconvert_exporter": "python",
   "pygments_lexer": "ipython3",
   "version": "3.8.3"
  }
 },
 "nbformat": 4,
 "nbformat_minor": 4
}
