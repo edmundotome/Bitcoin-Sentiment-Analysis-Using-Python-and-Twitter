{
 "cells": [
  {
   "cell_type": "markdown",
   "metadata": {},
   "source": [
    "# 30th Sept"
   ]
  },
  {
   "cell_type": "code",
   "execution_count": 1,
   "metadata": {},
   "outputs": [],
   "source": [
    "import tweepy\n",
    "import pandas as pd\n",
    "import numpy as np\n",
    "import re\n",
    "import seaborn as sns\n",
    "import matplotlib.pyplot as plt\n",
    "from textblob import TextBlob\n",
    "from tweepy.auth import OAuthHandler"
   ]
  },
  {
   "cell_type": "code",
   "execution_count": 2,
   "metadata": {},
   "outputs": [],
   "source": [
    "path = r'/home/edmundotome/Documents/Github Projects/LogAPItwitter.csv'\n",
    "log = pd.read_csv(path)"
   ]
  },
  {
   "cell_type": "code",
   "execution_count": 3,
   "metadata": {},
   "outputs": [],
   "source": [
    "consumerKey = log['API Key'][0]\n",
    "consumerSecret = log['API Key Secret'][0]\n",
    "\n",
    "accessToken = log['Access Token'][0]\n",
    "accessTokenSecret = log['Access Token Secret'][0]"
   ]
  },
  {
   "cell_type": "code",
   "execution_count": 4,
   "metadata": {},
   "outputs": [],
   "source": [
    "auth = OAuthHandler(consumerKey, consumerSecret)\n",
    "auth.set_access_token(accessToken, accessTokenSecret)\n",
    "\n",
    "api = tweepy.API(auth, wait_on_rate_limit=True)"
   ]
  },
  {
   "cell_type": "code",
   "execution_count": 5,
   "metadata": {},
   "outputs": [],
   "source": [
    "#gather 1000 tweets about Bitcoin and filter out any retweets 'RT'\n",
    "search_term = '#bitcoin -filter:retweets'\n",
    "\n",
    "#create a cursor object\n",
    "tweets = tweepy.Cursor(api.search, q=search_term, lang='en', since='2021-09-30', tweet_mode='extended').items(1000)\n",
    "\n",
    "#store tweets in a variable and get the full text\n",
    "all_tweets = [tweet.full_text for tweet in tweets]"
   ]
  },
  {
   "cell_type": "code",
   "execution_count": 6,
   "metadata": {},
   "outputs": [
    {
     "data": {
      "text/html": [
       "<div>\n",
       "<style scoped>\n",
       "    .dataframe tbody tr th:only-of-type {\n",
       "        vertical-align: middle;\n",
       "    }\n",
       "\n",
       "    .dataframe tbody tr th {\n",
       "        vertical-align: top;\n",
       "    }\n",
       "\n",
       "    .dataframe thead th {\n",
       "        text-align: right;\n",
       "    }\n",
       "</style>\n",
       "<table border=\"1\" class=\"dataframe\">\n",
       "  <thead>\n",
       "    <tr style=\"text-align: right;\">\n",
       "      <th></th>\n",
       "      <th>Tweets</th>\n",
       "    </tr>\n",
       "  </thead>\n",
       "  <tbody>\n",
       "    <tr>\n",
       "      <th>0</th>\n",
       "      <td>@intocryptoverse #Bitcoin is a joke</td>\n",
       "    </tr>\n",
       "    <tr>\n",
       "      <th>1</th>\n",
       "      <td>@BKEXGlobal #bluesparrow will take over the wo...</td>\n",
       "    </tr>\n",
       "    <tr>\n",
       "      <th>2</th>\n",
       "      <td>@WatcherGuru #bluesparrow will take over the w...</td>\n",
       "    </tr>\n",
       "    <tr>\n",
       "      <th>3</th>\n",
       "      <td>[NEW] Spain Wants to be a Crypto Hub with 100 ...</td>\n",
       "    </tr>\n",
       "    <tr>\n",
       "      <th>4</th>\n",
       "      <td>BTC can recive to 57K then Dump!!! for BINANCE...</td>\n",
       "    </tr>\n",
       "    <tr>\n",
       "      <th>5</th>\n",
       "      <td>Crypto Charts See Green With Altcoins Despite ...</td>\n",
       "    </tr>\n",
       "    <tr>\n",
       "      <th>6</th>\n",
       "      <td>💰 CRYPTO BUYS (01/17/2022 02:01)\\n- Dogecoin: ...</td>\n",
       "    </tr>\n",
       "    <tr>\n",
       "      <th>7</th>\n",
       "      <td>#WestAssist payment #88!!\\n1182 $WEST is been ...</td>\n",
       "    </tr>\n",
       "    <tr>\n",
       "      <th>8</th>\n",
       "      <td>@airdropinspect Excellent project.I hope it wi...</td>\n",
       "    </tr>\n",
       "    <tr>\n",
       "      <th>9</th>\n",
       "      <td>Our trading bots just closed a signal for MKRU...</td>\n",
       "    </tr>\n",
       "  </tbody>\n",
       "</table>\n",
       "</div>"
      ],
      "text/plain": [
       "                                              Tweets\n",
       "0                @intocryptoverse #Bitcoin is a joke\n",
       "1  @BKEXGlobal #bluesparrow will take over the wo...\n",
       "2  @WatcherGuru #bluesparrow will take over the w...\n",
       "3  [NEW] Spain Wants to be a Crypto Hub with 100 ...\n",
       "4  BTC can recive to 57K then Dump!!! for BINANCE...\n",
       "5  Crypto Charts See Green With Altcoins Despite ...\n",
       "6  💰 CRYPTO BUYS (01/17/2022 02:01)\\n- Dogecoin: ...\n",
       "7  #WestAssist payment #88!!\\n1182 $WEST is been ...\n",
       "8  @airdropinspect Excellent project.I hope it wi...\n",
       "9  Our trading bots just closed a signal for MKRU..."
      ]
     },
     "execution_count": 6,
     "metadata": {},
     "output_type": "execute_result"
    }
   ],
   "source": [
    "#create a dataframe to store the tweets with a column called 'tweets'\n",
    "df = pd.DataFrame(all_tweets, columns=['Tweets'])\n",
    "#show the first 5 rows of data\n",
    "df.head(10)"
   ]
  },
  {
   "cell_type": "code",
   "execution_count": 7,
   "metadata": {},
   "outputs": [],
   "source": [
    "#create a function to clean the tweets \n",
    "def cleanTwt(twt):\n",
    "  twt = re.sub('#bitcoin', 'bitcoin', twt) #removes the '#' from bitcoin\n",
    "  twt = re.sub('#Bitcoin', 'Bitcoin', twt)\n",
    "  twt = re.sub('#BTC', 'Bitcoin', twt)\n",
    "  twt = re.sub('#[A-Za-z0-9]+', '', twt) #removes any strings with a '#'\n",
    "  twt = re.sub('\\\\n', '', twt) #removes the '\\n' string\n",
    "  twt = re.sub('https?:\\/\\/\\S+', '', twt) #removes any hyperlinks\n",
    "  return twt"
   ]
  },
  {
   "cell_type": "code",
   "execution_count": 8,
   "metadata": {},
   "outputs": [
    {
     "data": {
      "text/html": [
       "<div>\n",
       "<style scoped>\n",
       "    .dataframe tbody tr th:only-of-type {\n",
       "        vertical-align: middle;\n",
       "    }\n",
       "\n",
       "    .dataframe tbody tr th {\n",
       "        vertical-align: top;\n",
       "    }\n",
       "\n",
       "    .dataframe thead th {\n",
       "        text-align: right;\n",
       "    }\n",
       "</style>\n",
       "<table border=\"1\" class=\"dataframe\">\n",
       "  <thead>\n",
       "    <tr style=\"text-align: right;\">\n",
       "      <th></th>\n",
       "      <th>Tweets</th>\n",
       "      <th>Cleaned Tweets</th>\n",
       "    </tr>\n",
       "  </thead>\n",
       "  <tbody>\n",
       "    <tr>\n",
       "      <th>0</th>\n",
       "      <td>@intocryptoverse #Bitcoin is a joke</td>\n",
       "      <td>@intocryptoverse Bitcoin is a joke</td>\n",
       "    </tr>\n",
       "    <tr>\n",
       "      <th>1</th>\n",
       "      <td>@BKEXGlobal #bluesparrow will take over the wo...</td>\n",
       "      <td>@BKEXGlobal  will take over the worldThe world...</td>\n",
       "    </tr>\n",
       "    <tr>\n",
       "      <th>2</th>\n",
       "      <td>@WatcherGuru #bluesparrow will take over the w...</td>\n",
       "      <td>@WatcherGuru  will take over the worldThe worl...</td>\n",
       "    </tr>\n",
       "    <tr>\n",
       "      <th>3</th>\n",
       "      <td>[NEW] Spain Wants to be a Crypto Hub with 100 ...</td>\n",
       "      <td>[NEW] Spain Wants to be a Crypto Hub with 100 ...</td>\n",
       "    </tr>\n",
       "    <tr>\n",
       "      <th>4</th>\n",
       "      <td>BTC can recive to 57K then Dump!!! for BINANCE...</td>\n",
       "      <td>BTC can recive to 57K then Dump!!! for BINANCE...</td>\n",
       "    </tr>\n",
       "  </tbody>\n",
       "</table>\n",
       "</div>"
      ],
      "text/plain": [
       "                                              Tweets  \\\n",
       "0                @intocryptoverse #Bitcoin is a joke   \n",
       "1  @BKEXGlobal #bluesparrow will take over the wo...   \n",
       "2  @WatcherGuru #bluesparrow will take over the w...   \n",
       "3  [NEW] Spain Wants to be a Crypto Hub with 100 ...   \n",
       "4  BTC can recive to 57K then Dump!!! for BINANCE...   \n",
       "\n",
       "                                      Cleaned Tweets  \n",
       "0                 @intocryptoverse Bitcoin is a joke  \n",
       "1  @BKEXGlobal  will take over the worldThe world...  \n",
       "2  @WatcherGuru  will take over the worldThe worl...  \n",
       "3  [NEW] Spain Wants to be a Crypto Hub with 100 ...  \n",
       "4  BTC can recive to 57K then Dump!!! for BINANCE...  "
      ]
     },
     "execution_count": 8,
     "metadata": {},
     "output_type": "execute_result"
    }
   ],
   "source": [
    "#clean the tweets\n",
    "df['Cleaned Tweets'] = df['Tweets'].apply(cleanTwt)\n",
    "#show the dataset\n",
    "df.head()"
   ]
  },
  {
   "cell_type": "code",
   "execution_count": 9,
   "metadata": {},
   "outputs": [
    {
     "data": {
      "text/html": [
       "<div>\n",
       "<style scoped>\n",
       "    .dataframe tbody tr th:only-of-type {\n",
       "        vertical-align: middle;\n",
       "    }\n",
       "\n",
       "    .dataframe tbody tr th {\n",
       "        vertical-align: top;\n",
       "    }\n",
       "\n",
       "    .dataframe thead th {\n",
       "        text-align: right;\n",
       "    }\n",
       "</style>\n",
       "<table border=\"1\" class=\"dataframe\">\n",
       "  <thead>\n",
       "    <tr style=\"text-align: right;\">\n",
       "      <th></th>\n",
       "      <th>Tweets</th>\n",
       "      <th>Cleaned Tweets</th>\n",
       "      <th>Subjetivity</th>\n",
       "      <th>Polarity</th>\n",
       "    </tr>\n",
       "  </thead>\n",
       "  <tbody>\n",
       "    <tr>\n",
       "      <th>0</th>\n",
       "      <td>@intocryptoverse #Bitcoin is a joke</td>\n",
       "      <td>@intocryptoverse Bitcoin is a joke</td>\n",
       "      <td>0.000000</td>\n",
       "      <td>0.000000</td>\n",
       "    </tr>\n",
       "    <tr>\n",
       "      <th>1</th>\n",
       "      <td>@BKEXGlobal #bluesparrow will take over the wo...</td>\n",
       "      <td>@BKEXGlobal  will take over the worldThe world...</td>\n",
       "      <td>0.000000</td>\n",
       "      <td>0.000000</td>\n",
       "    </tr>\n",
       "    <tr>\n",
       "      <th>2</th>\n",
       "      <td>@WatcherGuru #bluesparrow will take over the w...</td>\n",
       "      <td>@WatcherGuru  will take over the worldThe worl...</td>\n",
       "      <td>0.000000</td>\n",
       "      <td>0.000000</td>\n",
       "    </tr>\n",
       "    <tr>\n",
       "      <th>3</th>\n",
       "      <td>[NEW] Spain Wants to be a Crypto Hub with 100 ...</td>\n",
       "      <td>[NEW] Spain Wants to be a Crypto Hub with 100 ...</td>\n",
       "      <td>0.277273</td>\n",
       "      <td>0.168182</td>\n",
       "    </tr>\n",
       "    <tr>\n",
       "      <th>4</th>\n",
       "      <td>BTC can recive to 57K then Dump!!! for BINANCE...</td>\n",
       "      <td>BTC can recive to 57K then Dump!!! for BINANCE...</td>\n",
       "      <td>0.000000</td>\n",
       "      <td>0.000000</td>\n",
       "    </tr>\n",
       "    <tr>\n",
       "      <th>5</th>\n",
       "      <td>Crypto Charts See Green With Altcoins Despite ...</td>\n",
       "      <td>Crypto Charts See Green With Altcoins Despite ...</td>\n",
       "      <td>0.300000</td>\n",
       "      <td>-0.200000</td>\n",
       "    </tr>\n",
       "    <tr>\n",
       "      <th>6</th>\n",
       "      <td>💰 CRYPTO BUYS (01/17/2022 02:01)\\n- Dogecoin: ...</td>\n",
       "      <td>💰 CRYPTO BUYS (01/17/2022 02:01)- Dogecoin: $0...</td>\n",
       "      <td>0.000000</td>\n",
       "      <td>0.000000</td>\n",
       "    </tr>\n",
       "    <tr>\n",
       "      <th>7</th>\n",
       "      <td>#WestAssist payment #88!!\\n1182 $WEST is been ...</td>\n",
       "      <td>payment !!1182 $WEST is been paid to all our ...</td>\n",
       "      <td>0.000000</td>\n",
       "      <td>0.000000</td>\n",
       "    </tr>\n",
       "    <tr>\n",
       "      <th>8</th>\n",
       "      <td>@airdropinspect Excellent project.I hope it wi...</td>\n",
       "      <td>@airdropinspect Excellent project.I hope it wi...</td>\n",
       "      <td>0.625000</td>\n",
       "      <td>0.850000</td>\n",
       "    </tr>\n",
       "    <tr>\n",
       "      <th>9</th>\n",
       "      <td>Our trading bots just closed a signal for MKRU...</td>\n",
       "      <td>Our trading bots just closed a signal for MKRU...</td>\n",
       "      <td>0.100000</td>\n",
       "      <td>-0.100000</td>\n",
       "    </tr>\n",
       "    <tr>\n",
       "      <th>10</th>\n",
       "      <td>@udiWertheimer Lol agree 100% - fkn copers 😂\\n...</td>\n",
       "      <td>@udiWertheimer Lol agree 100% - fkn copers 😂Th...</td>\n",
       "      <td>0.490909</td>\n",
       "      <td>0.087273</td>\n",
       "    </tr>\n",
       "    <tr>\n",
       "      <th>11</th>\n",
       "      <td>Of course, preaching the truth can be benefici...</td>\n",
       "      <td>Of course, preaching the truth can be benefici...</td>\n",
       "      <td>0.385417</td>\n",
       "      <td>0.252083</td>\n",
       "    </tr>\n",
       "    <tr>\n",
       "      <th>12</th>\n",
       "      <td>@BKEXGlobal #bluesparrow will take over the wo...</td>\n",
       "      <td>@BKEXGlobal  will take over the worldThe world...</td>\n",
       "      <td>0.000000</td>\n",
       "      <td>0.000000</td>\n",
       "    </tr>\n",
       "    <tr>\n",
       "      <th>13</th>\n",
       "      <td>@BKEXGlobal #bluesparrow will take over the wo...</td>\n",
       "      <td>@BKEXGlobal  will take over the worldThe world...</td>\n",
       "      <td>0.000000</td>\n",
       "      <td>0.000000</td>\n",
       "    </tr>\n",
       "    <tr>\n",
       "      <th>14</th>\n",
       "      <td>on the 01/17/2022 at 07:01 1BTC was worth $427...</td>\n",
       "      <td>on the 01/17/2022 at 07:01 1BTC was worth $427...</td>\n",
       "      <td>0.100000</td>\n",
       "      <td>0.300000</td>\n",
       "    </tr>\n",
       "  </tbody>\n",
       "</table>\n",
       "</div>"
      ],
      "text/plain": [
       "                                               Tweets  \\\n",
       "0                 @intocryptoverse #Bitcoin is a joke   \n",
       "1   @BKEXGlobal #bluesparrow will take over the wo...   \n",
       "2   @WatcherGuru #bluesparrow will take over the w...   \n",
       "3   [NEW] Spain Wants to be a Crypto Hub with 100 ...   \n",
       "4   BTC can recive to 57K then Dump!!! for BINANCE...   \n",
       "5   Crypto Charts See Green With Altcoins Despite ...   \n",
       "6   💰 CRYPTO BUYS (01/17/2022 02:01)\\n- Dogecoin: ...   \n",
       "7   #WestAssist payment #88!!\\n1182 $WEST is been ...   \n",
       "8   @airdropinspect Excellent project.I hope it wi...   \n",
       "9   Our trading bots just closed a signal for MKRU...   \n",
       "10  @udiWertheimer Lol agree 100% - fkn copers 😂\\n...   \n",
       "11  Of course, preaching the truth can be benefici...   \n",
       "12  @BKEXGlobal #bluesparrow will take over the wo...   \n",
       "13  @BKEXGlobal #bluesparrow will take over the wo...   \n",
       "14  on the 01/17/2022 at 07:01 1BTC was worth $427...   \n",
       "\n",
       "                                       Cleaned Tweets  Subjetivity  Polarity  \n",
       "0                  @intocryptoverse Bitcoin is a joke     0.000000  0.000000  \n",
       "1   @BKEXGlobal  will take over the worldThe world...     0.000000  0.000000  \n",
       "2   @WatcherGuru  will take over the worldThe worl...     0.000000  0.000000  \n",
       "3   [NEW] Spain Wants to be a Crypto Hub with 100 ...     0.277273  0.168182  \n",
       "4   BTC can recive to 57K then Dump!!! for BINANCE...     0.000000  0.000000  \n",
       "5   Crypto Charts See Green With Altcoins Despite ...     0.300000 -0.200000  \n",
       "6   💰 CRYPTO BUYS (01/17/2022 02:01)- Dogecoin: $0...     0.000000  0.000000  \n",
       "7    payment !!1182 $WEST is been paid to all our ...     0.000000  0.000000  \n",
       "8   @airdropinspect Excellent project.I hope it wi...     0.625000  0.850000  \n",
       "9   Our trading bots just closed a signal for MKRU...     0.100000 -0.100000  \n",
       "10  @udiWertheimer Lol agree 100% - fkn copers 😂Th...     0.490909  0.087273  \n",
       "11  Of course, preaching the truth can be benefici...     0.385417  0.252083  \n",
       "12  @BKEXGlobal  will take over the worldThe world...     0.000000  0.000000  \n",
       "13  @BKEXGlobal  will take over the worldThe world...     0.000000  0.000000  \n",
       "14  on the 01/17/2022 at 07:01 1BTC was worth $427...     0.100000  0.300000  "
      ]
     },
     "execution_count": 9,
     "metadata": {},
     "output_type": "execute_result"
    }
   ],
   "source": [
    "#create a function to get subjetivity\n",
    "def getSubjectivity(twt):\n",
    "  return TextBlob(twt).sentiment.subjectivity\n",
    "#create a function to get polarity\n",
    "def getPolarity(twt):\n",
    "  return TextBlob(twt).sentiment.polarity\n",
    "\n",
    "#create two new columns called 'Subjetivity' and 'Polarity'\n",
    "df['Subjetivity'] = df['Cleaned Tweets'].apply(getSubjectivity)\n",
    "\n",
    "df['Polarity'] = df['Cleaned Tweets'].apply(getPolarity)\n",
    "\n",
    "df.head(15)"
   ]
  },
  {
   "cell_type": "code",
   "execution_count": 10,
   "metadata": {},
   "outputs": [],
   "source": [
    "#create a function to get sentiment text \n",
    "def getSentiment(score):\n",
    "  if score < 0:\n",
    "    return 'Negative'\n",
    "  elif score == 0:\n",
    "    return 'Neutral'\n",
    "  else:\n",
    "    return 'Positive'\n"
   ]
  },
  {
   "cell_type": "code",
   "execution_count": 11,
   "metadata": {},
   "outputs": [
    {
     "data": {
      "text/html": [
       "<div>\n",
       "<style scoped>\n",
       "    .dataframe tbody tr th:only-of-type {\n",
       "        vertical-align: middle;\n",
       "    }\n",
       "\n",
       "    .dataframe tbody tr th {\n",
       "        vertical-align: top;\n",
       "    }\n",
       "\n",
       "    .dataframe thead th {\n",
       "        text-align: right;\n",
       "    }\n",
       "</style>\n",
       "<table border=\"1\" class=\"dataframe\">\n",
       "  <thead>\n",
       "    <tr style=\"text-align: right;\">\n",
       "      <th></th>\n",
       "      <th>Tweets</th>\n",
       "      <th>Cleaned Tweets</th>\n",
       "      <th>Subjetivity</th>\n",
       "      <th>Polarity</th>\n",
       "      <th>Sentiment</th>\n",
       "    </tr>\n",
       "  </thead>\n",
       "  <tbody>\n",
       "    <tr>\n",
       "      <th>0</th>\n",
       "      <td>@intocryptoverse #Bitcoin is a joke</td>\n",
       "      <td>@intocryptoverse Bitcoin is a joke</td>\n",
       "      <td>0.000000</td>\n",
       "      <td>0.000000</td>\n",
       "      <td>Neutral</td>\n",
       "    </tr>\n",
       "    <tr>\n",
       "      <th>1</th>\n",
       "      <td>@BKEXGlobal #bluesparrow will take over the wo...</td>\n",
       "      <td>@BKEXGlobal  will take over the worldThe world...</td>\n",
       "      <td>0.000000</td>\n",
       "      <td>0.000000</td>\n",
       "      <td>Neutral</td>\n",
       "    </tr>\n",
       "    <tr>\n",
       "      <th>2</th>\n",
       "      <td>@WatcherGuru #bluesparrow will take over the w...</td>\n",
       "      <td>@WatcherGuru  will take over the worldThe worl...</td>\n",
       "      <td>0.000000</td>\n",
       "      <td>0.000000</td>\n",
       "      <td>Neutral</td>\n",
       "    </tr>\n",
       "    <tr>\n",
       "      <th>3</th>\n",
       "      <td>[NEW] Spain Wants to be a Crypto Hub with 100 ...</td>\n",
       "      <td>[NEW] Spain Wants to be a Crypto Hub with 100 ...</td>\n",
       "      <td>0.277273</td>\n",
       "      <td>0.168182</td>\n",
       "      <td>Positive</td>\n",
       "    </tr>\n",
       "    <tr>\n",
       "      <th>4</th>\n",
       "      <td>BTC can recive to 57K then Dump!!! for BINANCE...</td>\n",
       "      <td>BTC can recive to 57K then Dump!!! for BINANCE...</td>\n",
       "      <td>0.000000</td>\n",
       "      <td>0.000000</td>\n",
       "      <td>Neutral</td>\n",
       "    </tr>\n",
       "    <tr>\n",
       "      <th>5</th>\n",
       "      <td>Crypto Charts See Green With Altcoins Despite ...</td>\n",
       "      <td>Crypto Charts See Green With Altcoins Despite ...</td>\n",
       "      <td>0.300000</td>\n",
       "      <td>-0.200000</td>\n",
       "      <td>Negative</td>\n",
       "    </tr>\n",
       "    <tr>\n",
       "      <th>6</th>\n",
       "      <td>💰 CRYPTO BUYS (01/17/2022 02:01)\\n- Dogecoin: ...</td>\n",
       "      <td>💰 CRYPTO BUYS (01/17/2022 02:01)- Dogecoin: $0...</td>\n",
       "      <td>0.000000</td>\n",
       "      <td>0.000000</td>\n",
       "      <td>Neutral</td>\n",
       "    </tr>\n",
       "    <tr>\n",
       "      <th>7</th>\n",
       "      <td>#WestAssist payment #88!!\\n1182 $WEST is been ...</td>\n",
       "      <td>payment !!1182 $WEST is been paid to all our ...</td>\n",
       "      <td>0.000000</td>\n",
       "      <td>0.000000</td>\n",
       "      <td>Neutral</td>\n",
       "    </tr>\n",
       "    <tr>\n",
       "      <th>8</th>\n",
       "      <td>@airdropinspect Excellent project.I hope it wi...</td>\n",
       "      <td>@airdropinspect Excellent project.I hope it wi...</td>\n",
       "      <td>0.625000</td>\n",
       "      <td>0.850000</td>\n",
       "      <td>Positive</td>\n",
       "    </tr>\n",
       "    <tr>\n",
       "      <th>9</th>\n",
       "      <td>Our trading bots just closed a signal for MKRU...</td>\n",
       "      <td>Our trading bots just closed a signal for MKRU...</td>\n",
       "      <td>0.100000</td>\n",
       "      <td>-0.100000</td>\n",
       "      <td>Negative</td>\n",
       "    </tr>\n",
       "    <tr>\n",
       "      <th>10</th>\n",
       "      <td>@udiWertheimer Lol agree 100% - fkn copers 😂\\n...</td>\n",
       "      <td>@udiWertheimer Lol agree 100% - fkn copers 😂Th...</td>\n",
       "      <td>0.490909</td>\n",
       "      <td>0.087273</td>\n",
       "      <td>Positive</td>\n",
       "    </tr>\n",
       "    <tr>\n",
       "      <th>11</th>\n",
       "      <td>Of course, preaching the truth can be benefici...</td>\n",
       "      <td>Of course, preaching the truth can be benefici...</td>\n",
       "      <td>0.385417</td>\n",
       "      <td>0.252083</td>\n",
       "      <td>Positive</td>\n",
       "    </tr>\n",
       "    <tr>\n",
       "      <th>12</th>\n",
       "      <td>@BKEXGlobal #bluesparrow will take over the wo...</td>\n",
       "      <td>@BKEXGlobal  will take over the worldThe world...</td>\n",
       "      <td>0.000000</td>\n",
       "      <td>0.000000</td>\n",
       "      <td>Neutral</td>\n",
       "    </tr>\n",
       "    <tr>\n",
       "      <th>13</th>\n",
       "      <td>@BKEXGlobal #bluesparrow will take over the wo...</td>\n",
       "      <td>@BKEXGlobal  will take over the worldThe world...</td>\n",
       "      <td>0.000000</td>\n",
       "      <td>0.000000</td>\n",
       "      <td>Neutral</td>\n",
       "    </tr>\n",
       "    <tr>\n",
       "      <th>14</th>\n",
       "      <td>on the 01/17/2022 at 07:01 1BTC was worth $427...</td>\n",
       "      <td>on the 01/17/2022 at 07:01 1BTC was worth $427...</td>\n",
       "      <td>0.100000</td>\n",
       "      <td>0.300000</td>\n",
       "      <td>Positive</td>\n",
       "    </tr>\n",
       "  </tbody>\n",
       "</table>\n",
       "</div>"
      ],
      "text/plain": [
       "                                               Tweets  \\\n",
       "0                 @intocryptoverse #Bitcoin is a joke   \n",
       "1   @BKEXGlobal #bluesparrow will take over the wo...   \n",
       "2   @WatcherGuru #bluesparrow will take over the w...   \n",
       "3   [NEW] Spain Wants to be a Crypto Hub with 100 ...   \n",
       "4   BTC can recive to 57K then Dump!!! for BINANCE...   \n",
       "5   Crypto Charts See Green With Altcoins Despite ...   \n",
       "6   💰 CRYPTO BUYS (01/17/2022 02:01)\\n- Dogecoin: ...   \n",
       "7   #WestAssist payment #88!!\\n1182 $WEST is been ...   \n",
       "8   @airdropinspect Excellent project.I hope it wi...   \n",
       "9   Our trading bots just closed a signal for MKRU...   \n",
       "10  @udiWertheimer Lol agree 100% - fkn copers 😂\\n...   \n",
       "11  Of course, preaching the truth can be benefici...   \n",
       "12  @BKEXGlobal #bluesparrow will take over the wo...   \n",
       "13  @BKEXGlobal #bluesparrow will take over the wo...   \n",
       "14  on the 01/17/2022 at 07:01 1BTC was worth $427...   \n",
       "\n",
       "                                       Cleaned Tweets  Subjetivity  Polarity  \\\n",
       "0                  @intocryptoverse Bitcoin is a joke     0.000000  0.000000   \n",
       "1   @BKEXGlobal  will take over the worldThe world...     0.000000  0.000000   \n",
       "2   @WatcherGuru  will take over the worldThe worl...     0.000000  0.000000   \n",
       "3   [NEW] Spain Wants to be a Crypto Hub with 100 ...     0.277273  0.168182   \n",
       "4   BTC can recive to 57K then Dump!!! for BINANCE...     0.000000  0.000000   \n",
       "5   Crypto Charts See Green With Altcoins Despite ...     0.300000 -0.200000   \n",
       "6   💰 CRYPTO BUYS (01/17/2022 02:01)- Dogecoin: $0...     0.000000  0.000000   \n",
       "7    payment !!1182 $WEST is been paid to all our ...     0.000000  0.000000   \n",
       "8   @airdropinspect Excellent project.I hope it wi...     0.625000  0.850000   \n",
       "9   Our trading bots just closed a signal for MKRU...     0.100000 -0.100000   \n",
       "10  @udiWertheimer Lol agree 100% - fkn copers 😂Th...     0.490909  0.087273   \n",
       "11  Of course, preaching the truth can be benefici...     0.385417  0.252083   \n",
       "12  @BKEXGlobal  will take over the worldThe world...     0.000000  0.000000   \n",
       "13  @BKEXGlobal  will take over the worldThe world...     0.000000  0.000000   \n",
       "14  on the 01/17/2022 at 07:01 1BTC was worth $427...     0.100000  0.300000   \n",
       "\n",
       "   Sentiment  \n",
       "0    Neutral  \n",
       "1    Neutral  \n",
       "2    Neutral  \n",
       "3   Positive  \n",
       "4    Neutral  \n",
       "5   Negative  \n",
       "6    Neutral  \n",
       "7    Neutral  \n",
       "8   Positive  \n",
       "9   Negative  \n",
       "10  Positive  \n",
       "11  Positive  \n",
       "12   Neutral  \n",
       "13   Neutral  \n",
       "14  Positive  "
      ]
     },
     "execution_count": 11,
     "metadata": {},
     "output_type": "execute_result"
    }
   ],
   "source": [
    "#create a column to store the text sentiment\n",
    "df['Sentiment'] = df['Polarity'].apply(getSentiment)\n",
    "\n",
    "df.head(15)"
   ]
  },
  {
   "cell_type": "code",
   "execution_count": 12,
   "metadata": {},
   "outputs": [
    {
     "name": "stderr",
     "output_type": "stream",
     "text": [
      "/home/edmundotome/anaconda3/envs/Signal-Processing/lib/python3.8/site-packages/seaborn/_decorators.py:36: FutureWarning: Pass the following variables as keyword args: x, y. From version 0.12, the only valid positional argument will be `data`, and passing other arguments without an explicit keyword will result in an error or misinterpretation.\n",
      "  warnings.warn(\n"
     ]
    },
    {
     "data": {
      "image/png": "[encoded data removed]",
      "text/plain": [
       "<Figure size 720x432 with 1 Axes>"
      ]
     },
     "metadata": {
      "needs_background": "light"
     },
     "output_type": "display_data"
    }
   ],
   "source": [
    "ax = sns.relplot(df['Polarity'], df['Subjetivity'], hue = df['Polarity'], palette='RdBu')\n",
    "ax.fig.set_size_inches(10,6)\n",
    "\n",
    "norm = plt.Normalize(df['Polarity'].min(), df['Polarity'].max())\n",
    "sm = plt.cm.ScalarMappable(cmap=\"RdBu\", norm=norm)\n",
    "sm.set_array([])\n",
    "\n",
    "plt.show()"
   ]
  },
  {
   "cell_type": "code",
   "execution_count": 13,
   "metadata": {},
   "outputs": [
    {
     "data": {
      "image/png": "[encoded data removed]",
      "text/plain": [
       "<Figure size 432x288 with 1 Axes>"
      ]
     },
     "metadata": {
      "needs_background": "light"
     },
     "output_type": "display_data"
    }
   ],
   "source": [
    "#create a barchar to show the count of positive, neutral and negative sentiments\n",
    "df['Sentiment'].value_counts().plot(kind='bar')\n",
    "plt.title('Sentiment Analysis Bar Plot')\n",
    "plt.xlabel('Sentiment')\n",
    "plt.ylabel('Number of Tweets')\n",
    "plt.show()"
   ]
  },
  {
   "cell_type": "code",
   "execution_count": 14,
   "metadata": {},
   "outputs": [
    {
     "data": {
      "text/plain": [
       "Positive    487\n",
       "Neutral     416\n",
       "Negative     97\n",
       "Name: Sentiment, dtype: int64"
      ]
     },
     "execution_count": 14,
     "metadata": {},
     "output_type": "execute_result"
    }
   ],
   "source": [
    "df['Sentiment'].value_counts()"
   ]
  },
  {
   "cell_type": "code",
   "execution_count": 15,
   "metadata": {},
   "outputs": [
    {
     "data": {
      "text/plain": [
       "[487, 416, 97]"
      ]
     },
     "execution_count": 15,
     "metadata": {},
     "output_type": "execute_result"
    }
   ],
   "source": [
    "val_count = list(df['Sentiment'].value_counts())\n",
    "val_count"
   ]
  },
  {
   "cell_type": "code",
   "execution_count": 16,
   "metadata": {},
   "outputs": [
    {
     "data": {
      "text/plain": [
       "[487, 416, 97]"
      ]
     },
     "execution_count": 16,
     "metadata": {},
     "output_type": "execute_result"
    }
   ],
   "source": [
    "lst_df = list(df['Sentiment'].value_counts())\n",
    "lst_df"
   ]
  },
  {
   "cell_type": "code",
   "execution_count": 17,
   "metadata": {},
   "outputs": [
    {
     "name": "stdout",
     "output_type": "stream",
     "text": [
      "  Sentiment  Positive  Neutral  Negative\n",
      "0     day 1     494.0    372.0     134.0\n",
      "1     day 2     494.0    388.0     118.0\n",
      "2     day 3     487.0    416.0      97.0\n"
     ]
    }
   ],
   "source": [
    "dfs = pd.read_csv(\"r_sentiments.csv\")\n",
    "  \n",
    "# updating the column value/data\n",
    "dfs.loc[2, 'Sentiment'] = 'day 3'\n",
    "dfs.loc[2, 'Positive'] = lst_df[0]\n",
    "dfs.loc[2, 'Neutral'] = lst_df[1]\n",
    "dfs.loc[2, 'Negative'] = lst_df[2]\n",
    "  \n",
    "# writing into the file\n",
    "dfs.to_csv(\"r_sentiments.csv\", index=False)\n",
    "  \n",
    "print(dfs)"
   ]
  },
  {
   "cell_type": "code",
   "execution_count": null,
   "metadata": {},
   "outputs": [],
   "source": []
  }
 ],
 "metadata": {
  "kernelspec": {
   "display_name": "Python 3",
   "language": "python",
   "name": "python3"
  },
  "language_info": {
   "codemirror_mode": {
    "name": "ipython",
    "version": 3
   },
   "file_extension": ".py",
   "mimetype": "text/x-python",
   "name": "python",
   "nbconvert_exporter": "python",
   "pygments_lexer": "ipython3",
   "version": "3.8.3"
  }
 },
 "nbformat": 4,
 "nbformat_minor": 4
}
