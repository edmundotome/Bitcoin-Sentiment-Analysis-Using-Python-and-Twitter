{
 "cells": [
  {
   "cell_type": "markdown",
   "metadata": {},
   "source": [
    "# 28th Sept"
   ]
  },
  {
   "cell_type": "code",
   "execution_count": 18,
   "metadata": {},
   "outputs": [],
   "source": [
    "import tweepy\n",
    "import pandas as pd\n",
    "import numpy as np\n",
    "import re\n",
    "import seaborn as sns\n",
    "import matplotlib.pyplot as plt\n",
    "from textblob import TextBlob\n",
    "from tweepy.auth import OAuthHandler\n",
    "import csv"
   ]
  },
  {
   "cell_type": "code",
   "execution_count": 2,
   "metadata": {},
   "outputs": [],
   "source": [
    "path = r'/home/edmundotome/Documents/Github Projects/LogAPItwitter.csv'\n",
    "log = pd.read_csv(path)"
   ]
  },
  {
   "cell_type": "code",
   "execution_count": 3,
   "metadata": {},
   "outputs": [],
   "source": [
    "consumerKey = log['API Key'][0]\n",
    "consumerSecret = log['API Key Secret'][0]\n",
    "\n",
    "accessToken = log['Access Token'][0]\n",
    "accessTokenSecret = log['Access Token Secret'][0]"
   ]
  },
  {
   "cell_type": "code",
   "execution_count": 4,
   "metadata": {},
   "outputs": [],
   "source": [
    "auth = OAuthHandler(consumerKey, consumerSecret)\n",
    "auth.set_access_token(accessToken, accessTokenSecret)\n",
    "\n",
    "api = tweepy.API(auth, wait_on_rate_limit=True)"
   ]
  },
  {
   "cell_type": "code",
   "execution_count": 5,
   "metadata": {},
   "outputs": [],
   "source": [
    "#gather 1000 tweets about Bitcoin and filter out any retweets 'RT'\n",
    "search_term = '#bitcoin -filter:retweets'\n",
    "\n",
    "#create a cursor object\n",
    "tweets = tweepy.Cursor(api.search, q=search_term, lang='en', since='2021-09-28', tweet_mode='extended').items(1000)\n",
    "\n",
    "#store tweets in a variable and get the full text\n",
    "all_tweets = [tweet.full_text for tweet in tweets]"
   ]
  },
  {
   "cell_type": "code",
   "execution_count": 6,
   "metadata": {},
   "outputs": [
    {
     "data": {
      "text/html": [
       "<div>\n",
       "<style scoped>\n",
       "    .dataframe tbody tr th:only-of-type {\n",
       "        vertical-align: middle;\n",
       "    }\n",
       "\n",
       "    .dataframe tbody tr th {\n",
       "        vertical-align: top;\n",
       "    }\n",
       "\n",
       "    .dataframe thead th {\n",
       "        text-align: right;\n",
       "    }\n",
       "</style>\n",
       "<table border=\"1\" class=\"dataframe\">\n",
       "  <thead>\n",
       "    <tr style=\"text-align: right;\">\n",
       "      <th></th>\n",
       "      <th>Tweets</th>\n",
       "    </tr>\n",
       "  </thead>\n",
       "  <tbody>\n",
       "    <tr>\n",
       "      <th>0</th>\n",
       "      <td>#linkedin #twitter #facebook #discounts #insta...</td>\n",
       "    </tr>\n",
       "    <tr>\n",
       "      <th>1</th>\n",
       "      <td>@WatcherGuru #Biconomy is the ONLY EXCHANGE, p...</td>\n",
       "    </tr>\n",
       "    <tr>\n",
       "      <th>2</th>\n",
       "      <td>#linkedin #twitter #facebook #discounts #insta...</td>\n",
       "    </tr>\n",
       "    <tr>\n",
       "      <th>3</th>\n",
       "      <td>#linkedin #twitter #facebook #discounts #insta...</td>\n",
       "    </tr>\n",
       "    <tr>\n",
       "      <th>4</th>\n",
       "      <td>#linkedin #twitter #facebook #discounts #insta...</td>\n",
       "    </tr>\n",
       "    <tr>\n",
       "      <th>5</th>\n",
       "      <td>@BluesparrowC @NatashaCryptoUS 🐦🐦🐦🐦🐦🐦🐦🐦🐦🐦\\n\\n ...</td>\n",
       "    </tr>\n",
       "    <tr>\n",
       "      <th>6</th>\n",
       "      <td>@TheMoonCarl Yea, #Bitcoin is King 👑 🚀🚀🚀</td>\n",
       "    </tr>\n",
       "    <tr>\n",
       "      <th>7</th>\n",
       "      <td>Newly minted piece. #AAPES #PolygonNFT #Polygo...</td>\n",
       "    </tr>\n",
       "    <tr>\n",
       "      <th>8</th>\n",
       "      <td>3. Find the #Bitcoin daily transaction counts,...</td>\n",
       "    </tr>\n",
       "    <tr>\n",
       "      <th>9</th>\n",
       "      <td>Have you noticed how noone wants to sell their...</td>\n",
       "    </tr>\n",
       "  </tbody>\n",
       "</table>\n",
       "</div>"
      ],
      "text/plain": [
       "                                              Tweets\n",
       "0  #linkedin #twitter #facebook #discounts #insta...\n",
       "1  @WatcherGuru #Biconomy is the ONLY EXCHANGE, p...\n",
       "2  #linkedin #twitter #facebook #discounts #insta...\n",
       "3  #linkedin #twitter #facebook #discounts #insta...\n",
       "4  #linkedin #twitter #facebook #discounts #insta...\n",
       "5  @BluesparrowC @NatashaCryptoUS 🐦🐦🐦🐦🐦🐦🐦🐦🐦🐦\\n\\n ...\n",
       "6           @TheMoonCarl Yea, #Bitcoin is King 👑 🚀🚀🚀\n",
       "7  Newly minted piece. #AAPES #PolygonNFT #Polygo...\n",
       "8  3. Find the #Bitcoin daily transaction counts,...\n",
       "9  Have you noticed how noone wants to sell their..."
      ]
     },
     "execution_count": 6,
     "metadata": {},
     "output_type": "execute_result"
    }
   ],
   "source": [
    "#create a dataframe to store the tweets with a column called 'tweets'\n",
    "df = pd.DataFrame(all_tweets, columns=['Tweets'])\n",
    "#show the first 5 rows of data\n",
    "df.head(10)"
   ]
  },
  {
   "cell_type": "code",
   "execution_count": 7,
   "metadata": {},
   "outputs": [],
   "source": [
    "#create a function to clean the tweets \n",
    "def cleanTwt(twt):\n",
    "  twt = re.sub('#bitcoin', 'bitcoin', twt) #removes the '#' from bitcoin\n",
    "  twt = re.sub('#Bitcoin', 'Bitcoin', twt)\n",
    "  twt = re.sub('#BTC', 'Bitcoin', twt)\n",
    "  twt = re.sub('#[A-Za-z0-9]+', '', twt) #removes any strings with a '#'\n",
    "  twt = re.sub('\\\\n', '', twt) #removes the '\\n' string\n",
    "  twt = re.sub('https?:\\/\\/\\S+', '', twt) #removes any hyperlinks\n",
    "  return twt"
   ]
  },
  {
   "cell_type": "code",
   "execution_count": 8,
   "metadata": {},
   "outputs": [
    {
     "data": {
      "text/html": [
       "<div>\n",
       "<style scoped>\n",
       "    .dataframe tbody tr th:only-of-type {\n",
       "        vertical-align: middle;\n",
       "    }\n",
       "\n",
       "    .dataframe tbody tr th {\n",
       "        vertical-align: top;\n",
       "    }\n",
       "\n",
       "    .dataframe thead th {\n",
       "        text-align: right;\n",
       "    }\n",
       "</style>\n",
       "<table border=\"1\" class=\"dataframe\">\n",
       "  <thead>\n",
       "    <tr style=\"text-align: right;\">\n",
       "      <th></th>\n",
       "      <th>Tweets</th>\n",
       "      <th>Cleaned Tweets</th>\n",
       "    </tr>\n",
       "  </thead>\n",
       "  <tbody>\n",
       "    <tr>\n",
       "      <th>0</th>\n",
       "      <td>#linkedin #twitter #facebook #discounts #insta...</td>\n",
       "      <td>bitcoin   on orders over $99</td>\n",
       "    </tr>\n",
       "    <tr>\n",
       "      <th>1</th>\n",
       "      <td>@WatcherGuru #Biconomy is the ONLY EXCHANGE, p...</td>\n",
       "      <td>@WatcherGuru  is the ONLY EXCHANGE, paying div...</td>\n",
       "    </tr>\n",
       "    <tr>\n",
       "      <th>2</th>\n",
       "      <td>#linkedin #twitter #facebook #discounts #insta...</td>\n",
       "      <td>bitcoin  Enjoy $10 off Orders ...</td>\n",
       "    </tr>\n",
       "    <tr>\n",
       "      <th>3</th>\n",
       "      <td>#linkedin #twitter #facebook #discounts #insta...</td>\n",
       "      <td>bitcoin  on purchases over $25...</td>\n",
       "    </tr>\n",
       "    <tr>\n",
       "      <th>4</th>\n",
       "      <td>#linkedin #twitter #facebook #discounts #insta...</td>\n",
       "      <td>bitcoin             SAVE BIG ON AIRPORT P...</td>\n",
       "    </tr>\n",
       "  </tbody>\n",
       "</table>\n",
       "</div>"
      ],
      "text/plain": [
       "                                              Tweets  \\\n",
       "0  #linkedin #twitter #facebook #discounts #insta...   \n",
       "1  @WatcherGuru #Biconomy is the ONLY EXCHANGE, p...   \n",
       "2  #linkedin #twitter #facebook #discounts #insta...   \n",
       "3  #linkedin #twitter #facebook #discounts #insta...   \n",
       "4  #linkedin #twitter #facebook #discounts #insta...   \n",
       "\n",
       "                                      Cleaned Tweets  \n",
       "0                      bitcoin   on orders over $99   \n",
       "1  @WatcherGuru  is the ONLY EXCHANGE, paying div...  \n",
       "2                  bitcoin  Enjoy $10 off Orders ...  \n",
       "3                  bitcoin  on purchases over $25...  \n",
       "4       bitcoin             SAVE BIG ON AIRPORT P...  "
      ]
     },
     "execution_count": 8,
     "metadata": {},
     "output_type": "execute_result"
    }
   ],
   "source": [
    "#clean the tweets\n",
    "df['Cleaned Tweets'] = df['Tweets'].apply(cleanTwt)\n",
    "#show the dataset\n",
    "df.head()"
   ]
  },
  {
   "cell_type": "code",
   "execution_count": 9,
   "metadata": {},
   "outputs": [
    {
     "data": {
      "text/html": [
       "<div>\n",
       "<style scoped>\n",
       "    .dataframe tbody tr th:only-of-type {\n",
       "        vertical-align: middle;\n",
       "    }\n",
       "\n",
       "    .dataframe tbody tr th {\n",
       "        vertical-align: top;\n",
       "    }\n",
       "\n",
       "    .dataframe thead th {\n",
       "        text-align: right;\n",
       "    }\n",
       "</style>\n",
       "<table border=\"1\" class=\"dataframe\">\n",
       "  <thead>\n",
       "    <tr style=\"text-align: right;\">\n",
       "      <th></th>\n",
       "      <th>Tweets</th>\n",
       "      <th>Cleaned Tweets</th>\n",
       "      <th>Subjetivity</th>\n",
       "      <th>Polarity</th>\n",
       "    </tr>\n",
       "  </thead>\n",
       "  <tbody>\n",
       "    <tr>\n",
       "      <th>0</th>\n",
       "      <td>#linkedin #twitter #facebook #discounts #insta...</td>\n",
       "      <td>bitcoin   on orders over $99</td>\n",
       "      <td>0.000000</td>\n",
       "      <td>0.000000</td>\n",
       "    </tr>\n",
       "    <tr>\n",
       "      <th>1</th>\n",
       "      <td>@WatcherGuru #Biconomy is the ONLY EXCHANGE, p...</td>\n",
       "      <td>@WatcherGuru  is the ONLY EXCHANGE, paying div...</td>\n",
       "      <td>1.000000</td>\n",
       "      <td>0.000000</td>\n",
       "    </tr>\n",
       "    <tr>\n",
       "      <th>2</th>\n",
       "      <td>#linkedin #twitter #facebook #discounts #insta...</td>\n",
       "      <td>bitcoin  Enjoy $10 off Orders ...</td>\n",
       "      <td>0.500000</td>\n",
       "      <td>0.400000</td>\n",
       "    </tr>\n",
       "    <tr>\n",
       "      <th>3</th>\n",
       "      <td>#linkedin #twitter #facebook #discounts #insta...</td>\n",
       "      <td>bitcoin  on purchases over $25...</td>\n",
       "      <td>0.000000</td>\n",
       "      <td>0.000000</td>\n",
       "    </tr>\n",
       "    <tr>\n",
       "      <th>4</th>\n",
       "      <td>#linkedin #twitter #facebook #discounts #insta...</td>\n",
       "      <td>bitcoin             SAVE BIG ON AIRPORT P...</td>\n",
       "      <td>0.100000</td>\n",
       "      <td>0.000000</td>\n",
       "    </tr>\n",
       "    <tr>\n",
       "      <th>5</th>\n",
       "      <td>@BluesparrowC @NatashaCryptoUS 🐦🐦🐦🐦🐦🐦🐦🐦🐦🐦\\n\\n ...</td>\n",
       "      <td>@BluesparrowC @NatashaCryptoUS 🐦🐦🐦🐦🐦🐦🐦🐦🐦🐦     ...</td>\n",
       "      <td>0.200000</td>\n",
       "      <td>0.100000</td>\n",
       "    </tr>\n",
       "    <tr>\n",
       "      <th>6</th>\n",
       "      <td>@TheMoonCarl Yea, #Bitcoin is King 👑 🚀🚀🚀</td>\n",
       "      <td>@TheMoonCarl Yea, Bitcoin is King 👑 🚀🚀🚀</td>\n",
       "      <td>0.000000</td>\n",
       "      <td>0.000000</td>\n",
       "    </tr>\n",
       "    <tr>\n",
       "      <th>7</th>\n",
       "      <td>Newly minted piece. #AAPES #PolygonNFT #Polygo...</td>\n",
       "      <td>Newly minted piece.          Bitcoin    .@open...</td>\n",
       "      <td>0.454545</td>\n",
       "      <td>0.136364</td>\n",
       "    </tr>\n",
       "    <tr>\n",
       "      <th>8</th>\n",
       "      <td>3. Find the #Bitcoin daily transaction counts,...</td>\n",
       "      <td>3. Find the Bitcoin daily transaction counts, ...</td>\n",
       "      <td>0.187500</td>\n",
       "      <td>0.000000</td>\n",
       "    </tr>\n",
       "    <tr>\n",
       "      <th>9</th>\n",
       "      <td>Have you noticed how noone wants to sell their...</td>\n",
       "      <td>Have you noticed how noone wants to sell their...</td>\n",
       "      <td>0.291667</td>\n",
       "      <td>0.175000</td>\n",
       "    </tr>\n",
       "    <tr>\n",
       "      <th>10</th>\n",
       "      <td>How to query the daily transaction number of #...</td>\n",
       "      <td>How to query the daily transaction number of B...</td>\n",
       "      <td>0.166667</td>\n",
       "      <td>0.000000</td>\n",
       "    </tr>\n",
       "    <tr>\n",
       "      <th>11</th>\n",
       "      <td>@JoelKatz I really feel sorry for XRP holders....</td>\n",
       "      <td>@JoelKatz I really feel sorry for XRP holders....</td>\n",
       "      <td>0.600000</td>\n",
       "      <td>-0.150000</td>\n",
       "    </tr>\n",
       "    <tr>\n",
       "      <th>12</th>\n",
       "      <td>A awesome project till date, this project is v...</td>\n",
       "      <td>A awesome project till date, this project is v...</td>\n",
       "      <td>0.707500</td>\n",
       "      <td>0.727500</td>\n",
       "    </tr>\n",
       "    <tr>\n",
       "      <th>13</th>\n",
       "      <td>@BluesparrowC @NatashaCryptoUS Linking paralle...</td>\n",
       "      <td>@BluesparrowC @NatashaCryptoUS Linking paralle...</td>\n",
       "      <td>0.000000</td>\n",
       "      <td>0.000000</td>\n",
       "    </tr>\n",
       "    <tr>\n",
       "      <th>14</th>\n",
       "      <td>Life Hack: \\n\\nBuying $XPR under 1.5 cents is ...</td>\n",
       "      <td>Life Hack: Buying $XPR under 1.5 cents is like...</td>\n",
       "      <td>0.133333</td>\n",
       "      <td>0.000000</td>\n",
       "    </tr>\n",
       "  </tbody>\n",
       "</table>\n",
       "</div>"
      ],
      "text/plain": [
       "                                               Tweets  \\\n",
       "0   #linkedin #twitter #facebook #discounts #insta...   \n",
       "1   @WatcherGuru #Biconomy is the ONLY EXCHANGE, p...   \n",
       "2   #linkedin #twitter #facebook #discounts #insta...   \n",
       "3   #linkedin #twitter #facebook #discounts #insta...   \n",
       "4   #linkedin #twitter #facebook #discounts #insta...   \n",
       "5   @BluesparrowC @NatashaCryptoUS 🐦🐦🐦🐦🐦🐦🐦🐦🐦🐦\\n\\n ...   \n",
       "6            @TheMoonCarl Yea, #Bitcoin is King 👑 🚀🚀🚀   \n",
       "7   Newly minted piece. #AAPES #PolygonNFT #Polygo...   \n",
       "8   3. Find the #Bitcoin daily transaction counts,...   \n",
       "9   Have you noticed how noone wants to sell their...   \n",
       "10  How to query the daily transaction number of #...   \n",
       "11  @JoelKatz I really feel sorry for XRP holders....   \n",
       "12  A awesome project till date, this project is v...   \n",
       "13  @BluesparrowC @NatashaCryptoUS Linking paralle...   \n",
       "14  Life Hack: \\n\\nBuying $XPR under 1.5 cents is ...   \n",
       "\n",
       "                                       Cleaned Tweets  Subjetivity  Polarity  \n",
       "0                       bitcoin   on orders over $99      0.000000  0.000000  \n",
       "1   @WatcherGuru  is the ONLY EXCHANGE, paying div...     1.000000  0.000000  \n",
       "2                   bitcoin  Enjoy $10 off Orders ...     0.500000  0.400000  \n",
       "3                   bitcoin  on purchases over $25...     0.000000  0.000000  \n",
       "4        bitcoin             SAVE BIG ON AIRPORT P...     0.100000  0.000000  \n",
       "5   @BluesparrowC @NatashaCryptoUS 🐦🐦🐦🐦🐦🐦🐦🐦🐦🐦     ...     0.200000  0.100000  \n",
       "6             @TheMoonCarl Yea, Bitcoin is King 👑 🚀🚀🚀     0.000000  0.000000  \n",
       "7   Newly minted piece.          Bitcoin    .@open...     0.454545  0.136364  \n",
       "8   3. Find the Bitcoin daily transaction counts, ...     0.187500  0.000000  \n",
       "9   Have you noticed how noone wants to sell their...     0.291667  0.175000  \n",
       "10  How to query the daily transaction number of B...     0.166667  0.000000  \n",
       "11  @JoelKatz I really feel sorry for XRP holders....     0.600000 -0.150000  \n",
       "12  A awesome project till date, this project is v...     0.707500  0.727500  \n",
       "13  @BluesparrowC @NatashaCryptoUS Linking paralle...     0.000000  0.000000  \n",
       "14  Life Hack: Buying $XPR under 1.5 cents is like...     0.133333  0.000000  "
      ]
     },
     "execution_count": 9,
     "metadata": {},
     "output_type": "execute_result"
    }
   ],
   "source": [
    "#create a function to get subjetivity\n",
    "def getSubjectivity(twt):\n",
    "  return TextBlob(twt).sentiment.subjectivity\n",
    "#create a function to get polarity\n",
    "def getPolarity(twt):\n",
    "  return TextBlob(twt).sentiment.polarity\n",
    "\n",
    "#create two new columns called 'Subjetivity' and 'Polarity'\n",
    "df['Subjetivity'] = df['Cleaned Tweets'].apply(getSubjectivity)\n",
    "\n",
    "df['Polarity'] = df['Cleaned Tweets'].apply(getPolarity)\n",
    "\n",
    "df.head(15)"
   ]
  },
  {
   "cell_type": "code",
   "execution_count": 10,
   "metadata": {},
   "outputs": [],
   "source": [
    "#create a function to get sentiment text \n",
    "def getSentiment(score):\n",
    "  if score < 0:\n",
    "    return 'Negative'\n",
    "  elif score == 0:\n",
    "    return 'Neutral'\n",
    "  else:\n",
    "    return 'Positive'\n"
   ]
  },
  {
   "cell_type": "code",
   "execution_count": 11,
   "metadata": {},
   "outputs": [
    {
     "data": {
      "text/html": [
       "<div>\n",
       "<style scoped>\n",
       "    .dataframe tbody tr th:only-of-type {\n",
       "        vertical-align: middle;\n",
       "    }\n",
       "\n",
       "    .dataframe tbody tr th {\n",
       "        vertical-align: top;\n",
       "    }\n",
       "\n",
       "    .dataframe thead th {\n",
       "        text-align: right;\n",
       "    }\n",
       "</style>\n",
       "<table border=\"1\" class=\"dataframe\">\n",
       "  <thead>\n",
       "    <tr style=\"text-align: right;\">\n",
       "      <th></th>\n",
       "      <th>Tweets</th>\n",
       "      <th>Cleaned Tweets</th>\n",
       "      <th>Subjetivity</th>\n",
       "      <th>Polarity</th>\n",
       "      <th>Sentiment</th>\n",
       "    </tr>\n",
       "  </thead>\n",
       "  <tbody>\n",
       "    <tr>\n",
       "      <th>0</th>\n",
       "      <td>#linkedin #twitter #facebook #discounts #insta...</td>\n",
       "      <td>bitcoin   on orders over $99</td>\n",
       "      <td>0.000000</td>\n",
       "      <td>0.000000</td>\n",
       "      <td>Neutral</td>\n",
       "    </tr>\n",
       "    <tr>\n",
       "      <th>1</th>\n",
       "      <td>@WatcherGuru #Biconomy is the ONLY EXCHANGE, p...</td>\n",
       "      <td>@WatcherGuru  is the ONLY EXCHANGE, paying div...</td>\n",
       "      <td>1.000000</td>\n",
       "      <td>0.000000</td>\n",
       "      <td>Neutral</td>\n",
       "    </tr>\n",
       "    <tr>\n",
       "      <th>2</th>\n",
       "      <td>#linkedin #twitter #facebook #discounts #insta...</td>\n",
       "      <td>bitcoin  Enjoy $10 off Orders ...</td>\n",
       "      <td>0.500000</td>\n",
       "      <td>0.400000</td>\n",
       "      <td>Positive</td>\n",
       "    </tr>\n",
       "    <tr>\n",
       "      <th>3</th>\n",
       "      <td>#linkedin #twitter #facebook #discounts #insta...</td>\n",
       "      <td>bitcoin  on purchases over $25...</td>\n",
       "      <td>0.000000</td>\n",
       "      <td>0.000000</td>\n",
       "      <td>Neutral</td>\n",
       "    </tr>\n",
       "    <tr>\n",
       "      <th>4</th>\n",
       "      <td>#linkedin #twitter #facebook #discounts #insta...</td>\n",
       "      <td>bitcoin             SAVE BIG ON AIRPORT P...</td>\n",
       "      <td>0.100000</td>\n",
       "      <td>0.000000</td>\n",
       "      <td>Neutral</td>\n",
       "    </tr>\n",
       "    <tr>\n",
       "      <th>5</th>\n",
       "      <td>@BluesparrowC @NatashaCryptoUS 🐦🐦🐦🐦🐦🐦🐦🐦🐦🐦\\n\\n ...</td>\n",
       "      <td>@BluesparrowC @NatashaCryptoUS 🐦🐦🐦🐦🐦🐦🐦🐦🐦🐦     ...</td>\n",
       "      <td>0.200000</td>\n",
       "      <td>0.100000</td>\n",
       "      <td>Positive</td>\n",
       "    </tr>\n",
       "    <tr>\n",
       "      <th>6</th>\n",
       "      <td>@TheMoonCarl Yea, #Bitcoin is King 👑 🚀🚀🚀</td>\n",
       "      <td>@TheMoonCarl Yea, Bitcoin is King 👑 🚀🚀🚀</td>\n",
       "      <td>0.000000</td>\n",
       "      <td>0.000000</td>\n",
       "      <td>Neutral</td>\n",
       "    </tr>\n",
       "    <tr>\n",
       "      <th>7</th>\n",
       "      <td>Newly minted piece. #AAPES #PolygonNFT #Polygo...</td>\n",
       "      <td>Newly minted piece.          Bitcoin    .@open...</td>\n",
       "      <td>0.454545</td>\n",
       "      <td>0.136364</td>\n",
       "      <td>Positive</td>\n",
       "    </tr>\n",
       "    <tr>\n",
       "      <th>8</th>\n",
       "      <td>3. Find the #Bitcoin daily transaction counts,...</td>\n",
       "      <td>3. Find the Bitcoin daily transaction counts, ...</td>\n",
       "      <td>0.187500</td>\n",
       "      <td>0.000000</td>\n",
       "      <td>Neutral</td>\n",
       "    </tr>\n",
       "    <tr>\n",
       "      <th>9</th>\n",
       "      <td>Have you noticed how noone wants to sell their...</td>\n",
       "      <td>Have you noticed how noone wants to sell their...</td>\n",
       "      <td>0.291667</td>\n",
       "      <td>0.175000</td>\n",
       "      <td>Positive</td>\n",
       "    </tr>\n",
       "    <tr>\n",
       "      <th>10</th>\n",
       "      <td>How to query the daily transaction number of #...</td>\n",
       "      <td>How to query the daily transaction number of B...</td>\n",
       "      <td>0.166667</td>\n",
       "      <td>0.000000</td>\n",
       "      <td>Neutral</td>\n",
       "    </tr>\n",
       "    <tr>\n",
       "      <th>11</th>\n",
       "      <td>@JoelKatz I really feel sorry for XRP holders....</td>\n",
       "      <td>@JoelKatz I really feel sorry for XRP holders....</td>\n",
       "      <td>0.600000</td>\n",
       "      <td>-0.150000</td>\n",
       "      <td>Negative</td>\n",
       "    </tr>\n",
       "    <tr>\n",
       "      <th>12</th>\n",
       "      <td>A awesome project till date, this project is v...</td>\n",
       "      <td>A awesome project till date, this project is v...</td>\n",
       "      <td>0.707500</td>\n",
       "      <td>0.727500</td>\n",
       "      <td>Positive</td>\n",
       "    </tr>\n",
       "    <tr>\n",
       "      <th>13</th>\n",
       "      <td>@BluesparrowC @NatashaCryptoUS Linking paralle...</td>\n",
       "      <td>@BluesparrowC @NatashaCryptoUS Linking paralle...</td>\n",
       "      <td>0.000000</td>\n",
       "      <td>0.000000</td>\n",
       "      <td>Neutral</td>\n",
       "    </tr>\n",
       "    <tr>\n",
       "      <th>14</th>\n",
       "      <td>Life Hack: \\n\\nBuying $XPR under 1.5 cents is ...</td>\n",
       "      <td>Life Hack: Buying $XPR under 1.5 cents is like...</td>\n",
       "      <td>0.133333</td>\n",
       "      <td>0.000000</td>\n",
       "      <td>Neutral</td>\n",
       "    </tr>\n",
       "  </tbody>\n",
       "</table>\n",
       "</div>"
      ],
      "text/plain": [
       "                                               Tweets  \\\n",
       "0   #linkedin #twitter #facebook #discounts #insta...   \n",
       "1   @WatcherGuru #Biconomy is the ONLY EXCHANGE, p...   \n",
       "2   #linkedin #twitter #facebook #discounts #insta...   \n",
       "3   #linkedin #twitter #facebook #discounts #insta...   \n",
       "4   #linkedin #twitter #facebook #discounts #insta...   \n",
       "5   @BluesparrowC @NatashaCryptoUS 🐦🐦🐦🐦🐦🐦🐦🐦🐦🐦\\n\\n ...   \n",
       "6            @TheMoonCarl Yea, #Bitcoin is King 👑 🚀🚀🚀   \n",
       "7   Newly minted piece. #AAPES #PolygonNFT #Polygo...   \n",
       "8   3. Find the #Bitcoin daily transaction counts,...   \n",
       "9   Have you noticed how noone wants to sell their...   \n",
       "10  How to query the daily transaction number of #...   \n",
       "11  @JoelKatz I really feel sorry for XRP holders....   \n",
       "12  A awesome project till date, this project is v...   \n",
       "13  @BluesparrowC @NatashaCryptoUS Linking paralle...   \n",
       "14  Life Hack: \\n\\nBuying $XPR under 1.5 cents is ...   \n",
       "\n",
       "                                       Cleaned Tweets  Subjetivity  Polarity  \\\n",
       "0                       bitcoin   on orders over $99      0.000000  0.000000   \n",
       "1   @WatcherGuru  is the ONLY EXCHANGE, paying div...     1.000000  0.000000   \n",
       "2                   bitcoin  Enjoy $10 off Orders ...     0.500000  0.400000   \n",
       "3                   bitcoin  on purchases over $25...     0.000000  0.000000   \n",
       "4        bitcoin             SAVE BIG ON AIRPORT P...     0.100000  0.000000   \n",
       "5   @BluesparrowC @NatashaCryptoUS 🐦🐦🐦🐦🐦🐦🐦🐦🐦🐦     ...     0.200000  0.100000   \n",
       "6             @TheMoonCarl Yea, Bitcoin is King 👑 🚀🚀🚀     0.000000  0.000000   \n",
       "7   Newly minted piece.          Bitcoin    .@open...     0.454545  0.136364   \n",
       "8   3. Find the Bitcoin daily transaction counts, ...     0.187500  0.000000   \n",
       "9   Have you noticed how noone wants to sell their...     0.291667  0.175000   \n",
       "10  How to query the daily transaction number of B...     0.166667  0.000000   \n",
       "11  @JoelKatz I really feel sorry for XRP holders....     0.600000 -0.150000   \n",
       "12  A awesome project till date, this project is v...     0.707500  0.727500   \n",
       "13  @BluesparrowC @NatashaCryptoUS Linking paralle...     0.000000  0.000000   \n",
       "14  Life Hack: Buying $XPR under 1.5 cents is like...     0.133333  0.000000   \n",
       "\n",
       "   Sentiment  \n",
       "0    Neutral  \n",
       "1    Neutral  \n",
       "2   Positive  \n",
       "3    Neutral  \n",
       "4    Neutral  \n",
       "5   Positive  \n",
       "6    Neutral  \n",
       "7   Positive  \n",
       "8    Neutral  \n",
       "9   Positive  \n",
       "10   Neutral  \n",
       "11  Negative  \n",
       "12  Positive  \n",
       "13   Neutral  \n",
       "14   Neutral  "
      ]
     },
     "execution_count": 11,
     "metadata": {},
     "output_type": "execute_result"
    }
   ],
   "source": [
    "#create a column to store the text sentiment\n",
    "df['Sentiment'] = df['Polarity'].apply(getSentiment)\n",
    "\n",
    "df.head(15)"
   ]
  },
  {
   "cell_type": "code",
   "execution_count": 12,
   "metadata": {},
   "outputs": [
    {
     "name": "stderr",
     "output_type": "stream",
     "text": [
      "/home/edmundotome/anaconda3/envs/Signal-Processing/lib/python3.8/site-packages/seaborn/_decorators.py:36: FutureWarning: Pass the following variables as keyword args: x, y. From version 0.12, the only valid positional argument will be `data`, and passing other arguments without an explicit keyword will result in an error or misinterpretation.\n",
      "  warnings.warn(\n"
     ]
    },
    {
     "data": {
      "image/png": "[encoded data removed]",
      "text/plain": [
       "<Figure size 720x432 with 1 Axes>"
      ]
     },
     "metadata": {
      "needs_background": "light"
     },
     "output_type": "display_data"
    }
   ],
   "source": [
    "ax = sns.relplot(df['Polarity'], df['Subjetivity'], hue = df['Polarity'], palette='RdBu')\n",
    "ax.fig.set_size_inches(10,6)\n",
    "\n",
    "norm = plt.Normalize(df['Polarity'].min(), df['Polarity'].max())\n",
    "sm = plt.cm.ScalarMappable(cmap=\"RdBu\", norm=norm)\n",
    "sm.set_array([])\n",
    "\n",
    "plt.show()"
   ]
  },
  {
   "cell_type": "code",
   "execution_count": 13,
   "metadata": {},
   "outputs": [
    {
     "data": {
      "image/png": "[encoded data removed]",
      "text/plain": [
       "<Figure size 432x288 with 1 Axes>"
      ]
     },
     "metadata": {
      "needs_background": "light"
     },
     "output_type": "display_data"
    }
   ],
   "source": [
    "#create a barchar to show the count of positive, neutral and negative sentiments\n",
    "df['Sentiment'].value_counts().plot(kind='bar')\n",
    "plt.title('Sentiment Analysis Bar Plot')\n",
    "plt.xlabel('Sentiment')\n",
    "plt.ylabel('Number of Tweets')\n",
    "plt.show()"
   ]
  },
  {
   "cell_type": "code",
   "execution_count": 14,
   "metadata": {},
   "outputs": [
    {
     "data": {
      "text/plain": [
       "Positive    494\n",
       "Neutral     372\n",
       "Negative    134\n",
       "Name: Sentiment, dtype: int64"
      ]
     },
     "execution_count": 14,
     "metadata": {},
     "output_type": "execute_result"
    }
   ],
   "source": [
    "df['Sentiment'].value_counts()"
   ]
  },
  {
   "cell_type": "code",
   "execution_count": 15,
   "metadata": {},
   "outputs": [
    {
     "data": {
      "text/plain": [
       "[494, 372, 134]"
      ]
     },
     "execution_count": 15,
     "metadata": {},
     "output_type": "execute_result"
    }
   ],
   "source": [
    "val_count = list(df['Sentiment'].value_counts())\n",
    "val_count"
   ]
  },
  {
   "cell_type": "code",
   "execution_count": 16,
   "metadata": {},
   "outputs": [
    {
     "data": {
      "text/plain": [
       "[494, 372, 134]"
      ]
     },
     "execution_count": 16,
     "metadata": {},
     "output_type": "execute_result"
    }
   ],
   "source": [
    "lst_df = list(df['Sentiment'].value_counts())\n",
    "lst_df"
   ]
  },
  {
   "cell_type": "code",
   "execution_count": 19,
   "metadata": {},
   "outputs": [],
   "source": [
    "header = ['Sentiment', 'Positive', 'Neutral', 'Negative']\n",
    "with open('r_sentiments.csv', 'w', encoding='UTF8', newline='') as f:\n",
    "    writer = csv.writer(f)\n",
    "    # write the header\n",
    "    writer.writerow(header)"
   ]
  },
  {
   "cell_type": "code",
   "execution_count": 20,
   "metadata": {},
   "outputs": [
    {
     "name": "stdout",
     "output_type": "stream",
     "text": [
      "  Sentiment Positive Neutral Negative\n",
      "0     day 1      494     372      134\n"
     ]
    }
   ],
   "source": [
    "dfs = pd.read_csv(\"r_sentiments.csv\")\n",
    "  \n",
    "# updating the column value/data\n",
    "dfs.loc[0, 'Sentiment'] = 'day 1'\n",
    "dfs.loc[0, 'Positive'] = lst_df[0]\n",
    "dfs.loc[0, 'Neutral'] = lst_df[1]\n",
    "dfs.loc[0, 'Negative'] = lst_df[2]\n",
    "  \n",
    "# writing into the file\n",
    "dfs.to_csv(\"r_sentiments.csv\", index=False)\n",
    "  \n",
    "print(dfs)"
   ]
  },
  {
   "cell_type": "code",
   "execution_count": null,
   "metadata": {},
   "outputs": [],
   "source": []
  }
 ],
 "metadata": {
  "kernelspec": {
   "display_name": "Python 3",
   "language": "python",
   "name": "python3"
  },
  "language_info": {
   "codemirror_mode": {
    "name": "ipython",
    "version": 3
   },
   "file_extension": ".py",
   "mimetype": "text/x-python",
   "name": "python",
   "nbconvert_exporter": "python",
   "pygments_lexer": "ipython3",
   "version": "3.8.3"
  }
 },
 "nbformat": 4,
 "nbformat_minor": 4
}
